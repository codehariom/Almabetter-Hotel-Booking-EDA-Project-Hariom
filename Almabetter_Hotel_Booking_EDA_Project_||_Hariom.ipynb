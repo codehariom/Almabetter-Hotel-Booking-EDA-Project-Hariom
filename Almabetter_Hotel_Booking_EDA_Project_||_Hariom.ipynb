{
  "cells": [
    {
      "cell_type": "markdown",
      "metadata": {
        "id": "view-in-github",
        "colab_type": "text"
      },
      "source": [
        "<a href=\"https://colab.research.google.com/github/codehariom/Almabetter-Hotel-Booking-EDA-Project-Hariom/blob/main/Almabetter_Hotel_Booking_EDA_Project_%7C%7C_Hariom.ipynb\" target=\"_parent\"><img src=\"https://colab.research.google.com/assets/colab-badge.svg\" alt=\"Open In Colab\"/></a>"
      ]
    },
    {
      "cell_type": "markdown",
      "metadata": {
        "id": "OZ8ySxFhHH7n"
      },
      "source": [
        "# **Project Name**    - Hotel Booking Analysis EDA using Python\n",
        "\n"
      ]
    },
    {
      "cell_type": "markdown",
      "metadata": {
        "id": "c1-e0rxaIqPP"
      },
      "source": [
        "#  **Project Type**    - EDA\n",
        "##### **Contribution**    - Team\n",
        "\n",
        "##### **Team Member 1 -**   Hariom Gupta\n",
        "##### **Team Member 2 -**   Pallavi\n",
        "##### **Team Member 3 -**   Aditya Singh\n",
        "##### **Team Member 4 -**   Vishawjeet Das\n",
        "##### **Team Member 5 -**   Ritesh Verma"
      ]
    },
    {
      "cell_type": "markdown",
      "metadata": {
        "id": "pzMe672O72Xy"
      },
      "source": [
        "#**Project Summary**\n",
        "\n",
        "---\n",
        "\n"
      ]
    },
    {
      "cell_type": "markdown",
      "metadata": {
        "id": "e1LPiQ-27om0"
      },
      "source": [
        "Almabetter Hotel Booking EDA Project Using Python || Hariom Hotel booking analysis with AlmaBetter EDA This project relates to hotel reservations and includes a variety of city hotels and resort hotels. There are 32 columns and a total of 119390 rows in this dataset. Data collection, data cleansing and manipulation, and EDA (experimental Data Analysis) are the three categories into which the workflow for data manipulation is divided. The names of some of the columns, including hotel, is_canceled, lead_time, arrival_date_year, arrival_date_month, arrival_date_week_number, arrival_date_day_of_month, and stays_in_weekend_nights, have been updated as the data collection process has progressed. This is done by coding Head(), Tail(), info(), describe(), columns(), and other methods used for data collection. As we proceed, we identify the distinct value for each column, create a list in tabular format, and also verify the dataset type for each column. Identify some columns with inaccurate data types and fix them afterward. As we discover duplicate items totaling 87396, which are later discarded from the dataset, duplicate data items must also be removed during the data cleaning phase.\n",
        "\n",
        "We must first perform data manipulation before visualizing any data from the data source. To do that, we examined each column's null value. After checking, drop the column using the 'drop' method if we find one that has a greater percentage of null values. We are so removed from the \"company\" column. When there are only a few null values, we fill those null values with the necessary values using the formula.fill()\n",
        "\n",
        "To achieve greater understanding and business goals, many charts are utilized for data visualization."
      ]
    },
    {
      "cell_type": "markdown",
      "metadata": {
        "id": "_Vqw1V_k8K8o"
      },
      "source": [
        "# **GitHub Link -**"
      ]
    },
    {
      "cell_type": "markdown",
      "metadata": {
        "id": "rBhq31bn8anP"
      },
      "source": [
        "**Github Link:**    [Team Github link ](https://github.com/rishigupta2907/Almabetter_EDA_Python_project_Hotel_booking)\n",
        "\n",
        "[Github link of mine]\n",
        "https://github.com/Sumegha22/AlmaBetter_EDA_Hotel_Booking_Analysis/blob/main/Sumana_Team_Durban_Multiverse_%7C_EDA_Submission.ipynb"
      ]
    },
    {
      "cell_type": "markdown",
      "metadata": {
        "id": "7pnKTAO_8toe"
      },
      "source": [
        "#**Problem Declaration**\n"
      ]
    },
    {
      "cell_type": "markdown",
      "metadata": {
        "id": "qiymwt2u8yl7"
      },
      "source": [
        "Have you ever thought the ideal season of the year to reserve a hotel room? Alternatively, how long should I remain to get the greatest daily rate? What if you wanted to foretell whether a hotel would unreasonably frequently receive unusual requests? You can investigate those questions using the data from hotel reservations!\n",
        "This data collection comprises reservation details for a city hotel and a resort hotel, as well as details like the date the reservation was made, the duration of the stay, the number of adults, kids, and/or babies, and the number of parking spaces that are available. The data is devoid of any information that may be used to identify a specific person.\n",
        "Investigate and evaluate the information to find crucial elements that control reservations.\n",
        "\n",
        "\n",
        "#**Business Assignment**\n",
        "Analyse the reservation data for the City Hotel and Resort Hotel to learn more about the various elements that influence a reservation. This is being done as a solo project.\n",
        "\n",
        "\n"
      ]
    },
    {
      "cell_type": "markdown",
      "metadata": {
        "id": "kIIMSmtS9Phn"
      },
      "source": [
        "# **General Guidelines** : -  "
      ]
    },
    {
      "cell_type": "markdown",
      "metadata": {
        "id": "bzO4nBKW9RZr"
      },
      "source": [
        "1.   Well-structured, formatted, and commented code is required.\n",
        "2.   Exception Handling, Production Grade Code & Deployment Ready Code will be a plus. Those students will be awarded some additional credits.\n",
        "     \n",
        "     The additional credits will have advantages over other students during Star Student selection.\n",
        "       \n",
        "             [ Note: - Deployment Ready Code is defined as, the whole .ipynb notebook should be executable in one go\n",
        "                       without a single error logged. ]\n",
        "\n",
        "3.   Each and every logic should have proper comments.\n",
        "4. You may add as many number of charts you want. Make Sure for each and every chart the following format should be answered.\n",
        "        \n",
        "\n",
        "```\n",
        "# Chart visualization code\n",
        "```\n",
        "            \n",
        "\n",
        "*   Why did you pick the specific chart?\n",
        "*   What is/are the insight(s) found from the chart?\n",
        "* Will the gained insights help creating a positive business impact?\n",
        "Are there any insights that lead to negative growth? Justify with specific reason.\n",
        "\n",
        "5. You have to create at least 20 logical & meaningful charts having important insights.\n",
        "\n",
        "\n",
        "[ Hints : - Do the Vizualization in  a structured way while following \"UBM\" Rule.\n",
        "\n",
        "U - Univariate Analysis,\n",
        "\n",
        "B - Bivariate Analysis (Numerical - Categorical, Numerical - Numerical, Categorical - Categorical)\n",
        "\n",
        "M - Multivariate Analysis\n",
        " ]\n",
        "\n",
        "\n",
        "\n"
      ]
    },
    {
      "cell_type": "markdown",
      "metadata": {
        "id": "Ly7fAYTl9jJv"
      },
      "source": [
        "# ***Let's Play with data !***"
      ]
    },
    {
      "cell_type": "markdown",
      "metadata": {
        "id": "K16oi_wN9nbn"
      },
      "source": [
        "## ***1. Know Your Data***\n",
        "\n",
        "\n",
        "\n",
        "### Import Libraries"
      ]
    },
    {
      "cell_type": "code",
      "execution_count": null,
      "metadata": {
        "id": "rnlvPt8y9yW-"
      },
      "outputs": [],
      "source": [
        "import numpy as np"
      ]
    },
    {
      "cell_type": "code",
      "execution_count": null,
      "metadata": {
        "id": "5gF9R3qj_Lh3"
      },
      "outputs": [],
      "source": [
        "import pandas as pd"
      ]
    },
    {
      "cell_type": "code",
      "execution_count": null,
      "metadata": {
        "id": "GdifUQkB_Ss3"
      },
      "outputs": [],
      "source": [
        "import matplotlib.pyplot as plt\n",
        "%matplotlib inline"
      ]
    },
    {
      "cell_type": "code",
      "source": [
        "pip install seaborn"
      ],
      "metadata": {
        "colab": {
          "base_uri": "https://localhost:8080/"
        },
        "id": "4C7Z6MZgKB89",
        "outputId": "a33917c6-b64d-4579-8bfc-86ed54853583"
      },
      "execution_count": null,
      "outputs": [
        {
          "output_type": "stream",
          "name": "stdout",
          "text": [
            "Requirement already satisfied: seaborn in /usr/local/lib/python3.10/dist-packages (0.12.2)\n",
            "Requirement already satisfied: numpy!=1.24.0,>=1.17 in /usr/local/lib/python3.10/dist-packages (from seaborn) (1.22.4)\n",
            "Requirement already satisfied: pandas>=0.25 in /usr/local/lib/python3.10/dist-packages (from seaborn) (1.5.3)\n",
            "Requirement already satisfied: matplotlib!=3.6.1,>=3.1 in /usr/local/lib/python3.10/dist-packages (from seaborn) (3.7.1)\n",
            "Requirement already satisfied: contourpy>=1.0.1 in /usr/local/lib/python3.10/dist-packages (from matplotlib!=3.6.1,>=3.1->seaborn) (1.1.0)\n",
            "Requirement already satisfied: cycler>=0.10 in /usr/local/lib/python3.10/dist-packages (from matplotlib!=3.6.1,>=3.1->seaborn) (0.11.0)\n",
            "Requirement already satisfied: fonttools>=4.22.0 in /usr/local/lib/python3.10/dist-packages (from matplotlib!=3.6.1,>=3.1->seaborn) (4.41.0)\n",
            "Requirement already satisfied: kiwisolver>=1.0.1 in /usr/local/lib/python3.10/dist-packages (from matplotlib!=3.6.1,>=3.1->seaborn) (1.4.4)\n",
            "Requirement already satisfied: packaging>=20.0 in /usr/local/lib/python3.10/dist-packages (from matplotlib!=3.6.1,>=3.1->seaborn) (23.1)\n",
            "Requirement already satisfied: pillow>=6.2.0 in /usr/local/lib/python3.10/dist-packages (from matplotlib!=3.6.1,>=3.1->seaborn) (8.4.0)\n",
            "Requirement already satisfied: pyparsing>=2.3.1 in /usr/local/lib/python3.10/dist-packages (from matplotlib!=3.6.1,>=3.1->seaborn) (3.1.0)\n",
            "Requirement already satisfied: python-dateutil>=2.7 in /usr/local/lib/python3.10/dist-packages (from matplotlib!=3.6.1,>=3.1->seaborn) (2.8.2)\n",
            "Requirement already satisfied: pytz>=2020.1 in /usr/local/lib/python3.10/dist-packages (from pandas>=0.25->seaborn) (2022.7.1)\n",
            "Requirement already satisfied: six>=1.5 in /usr/local/lib/python3.10/dist-packages (from python-dateutil>=2.7->matplotlib!=3.6.1,>=3.1->seaborn) (1.16.0)\n"
          ]
        }
      ]
    },
    {
      "cell_type": "code",
      "source": [
        "pip install os-sys"
      ],
      "metadata": {
        "colab": {
          "base_uri": "https://localhost:8080/"
        },
        "id": "dCTptwhGMYqG",
        "outputId": "7a27da5d-0fb8-43a4-e7f5-ec6a93f1e126"
      },
      "execution_count": null,
      "outputs": [
        {
          "output_type": "stream",
          "name": "stdout",
          "text": [
            "Collecting os-sys\n",
            "  Downloading os_sys-2.1.4-py3-none-any.whl (15.6 MB)\n",
            "\u001b[2K     \u001b[90m━━━━━━━━━━━━━━━━━━━━━━━━━━━━━━━━━━━━━━━━\u001b[0m \u001b[32m15.6/15.6 MB\u001b[0m \u001b[31m27.7 MB/s\u001b[0m eta \u001b[36m0:00:00\u001b[0m\n",
            "\u001b[?25hCollecting pygubu (from os-sys)\n",
            "  Downloading pygubu-0.31-py3-none-any.whl (118 kB)\n",
            "\u001b[2K     \u001b[90m━━━━━━━━━━━━━━━━━━━━━━━━━━━━━━━━━━━━━━\u001b[0m \u001b[32m118.7/118.7 kB\u001b[0m \u001b[31m15.1 MB/s\u001b[0m eta \u001b[36m0:00:00\u001b[0m\n",
            "\u001b[?25hRequirement already satisfied: pytz in /usr/local/lib/python3.10/dist-packages (from os-sys) (2022.7.1)\n",
            "Requirement already satisfied: sqlparse in /usr/local/lib/python3.10/dist-packages (from os-sys) (0.4.4)\n",
            "Collecting progress (from os-sys)\n",
            "  Downloading progress-1.6.tar.gz (7.8 kB)\n",
            "  Preparing metadata (setup.py) ... \u001b[?25l\u001b[?25hdone\n",
            "Requirement already satisfied: tqdm in /usr/local/lib/python3.10/dist-packages (from os-sys) (4.65.0)\n",
            "Collecting progressbar (from os-sys)\n",
            "  Downloading progressbar-2.5.tar.gz (10 kB)\n",
            "  Preparing metadata (setup.py) ... \u001b[?25l\u001b[?25hdone\n",
            "Requirement already satisfied: matplotlib in /usr/local/lib/python3.10/dist-packages (from os-sys) (3.7.1)\n",
            "Requirement already satisfied: numpy in /usr/local/lib/python3.10/dist-packages (from os-sys) (1.22.4)\n",
            "Requirement already satisfied: six in /usr/local/lib/python3.10/dist-packages (from os-sys) (1.16.0)\n",
            "Collecting jupyter (from os-sys)\n",
            "  Downloading jupyter-1.0.0-py2.py3-none-any.whl (2.7 kB)\n",
            "Requirement already satisfied: pandas in /usr/local/lib/python3.10/dist-packages (from os-sys) (1.5.3)\n",
            "Requirement already satisfied: beautifulsoup4 in /usr/local/lib/python3.10/dist-packages (from os-sys) (4.11.2)\n",
            "Collecting Eel (from os-sys)\n",
            "  Downloading Eel-0.16.0.tar.gz (24 kB)\n",
            "  Preparing metadata (setup.py) ... \u001b[?25l\u001b[?25hdone\n",
            "Collecting extract-zip (from os-sys)\n",
            "  Downloading extract_zip-1.0.0-py3-none-any.whl (2.6 kB)\n",
            "INFO: pip is looking at multiple versions of os-sys to determine which version is compatible with other requirements. This could take a while.\n",
            "Collecting os-sys\n",
            "  Downloading os_sys-2.1.3-py3-none-any.whl (15.5 MB)\n",
            "\u001b[2K     \u001b[90m━━━━━━━━━━━━━━━━━━━━━━━━━━━━━━━━━━━━━━━━\u001b[0m \u001b[32m15.5/15.5 MB\u001b[0m \u001b[31m18.3 MB/s\u001b[0m eta \u001b[36m0:00:00\u001b[0m\n",
            "\u001b[?25h  Downloading os_sys-2.1.2-py3-none-any.whl (15.4 MB)\n",
            "\u001b[2K     \u001b[90m━━━━━━━━━━━━━━━━━━━━━━━━━━━━━━━━━━━━━━━━\u001b[0m \u001b[32m15.4/15.4 MB\u001b[0m \u001b[31m27.9 MB/s\u001b[0m eta \u001b[36m0:00:00\u001b[0m\n",
            "\u001b[?25h  Downloading os_sys-2.1.1-py3-none-any.whl (15.4 MB)\n",
            "\u001b[2K     \u001b[90m━━━━━━━━━━━━━━━━━━━━━━━━━━━━━━━━━━━━━━━━\u001b[0m \u001b[32m15.4/15.4 MB\u001b[0m \u001b[31m19.4 MB/s\u001b[0m eta \u001b[36m0:00:00\u001b[0m\n",
            "\u001b[?25h  Downloading os_sys-2.1.0-py3-none-any.whl (15.9 MB)\n",
            "\u001b[2K     \u001b[90m━━━━━━━━━━━━━━━━━━━━━━━━━━━━━━━━━━━━━━━━\u001b[0m \u001b[32m15.9/15.9 MB\u001b[0m \u001b[31m5.8 MB/s\u001b[0m eta \u001b[36m0:00:00\u001b[0m\n",
            "\u001b[?25h  Downloading os_sys-2.0.9-py3-none-any.whl (15.4 MB)\n",
            "\u001b[2K     \u001b[90m━━━━━━━━━━━━━━━━━━━━━━━━━━━━━━━━━━━━━━━━\u001b[0m \u001b[32m15.4/15.4 MB\u001b[0m \u001b[31m9.5 MB/s\u001b[0m eta \u001b[36m0:00:00\u001b[0m\n",
            "\u001b[?25h  Downloading os_sys-2.0.8-py3-none-any.whl (15.4 MB)\n",
            "\u001b[2K     \u001b[90m━━━━━━━━━━━━━━━━━━━━━━━━━━━━━━━━━━━━━━━━\u001b[0m \u001b[32m15.4/15.4 MB\u001b[0m \u001b[31m6.0 MB/s\u001b[0m eta \u001b[36m0:00:00\u001b[0m\n",
            "\u001b[?25h  Downloading os_sys-2.0.7-py3-none-any.whl (14.2 MB)\n",
            "\u001b[2K     \u001b[90m━━━━━━━━━━━━━━━━━━━━━━━━━━━━━━━━━━━━━━━━\u001b[0m \u001b[32m14.2/14.2 MB\u001b[0m \u001b[31m6.1 MB/s\u001b[0m eta \u001b[36m0:00:00\u001b[0m\n",
            "\u001b[?25hINFO: pip is looking at multiple versions of os-sys to determine which version is compatible with other requirements. This could take a while.\n",
            "  Downloading os_sys-2.0.6-py3-none-any.whl (14.2 MB)\n",
            "\u001b[2K     \u001b[90m━━━━━━━━━━━━━━━━━━━━━━━━━━━━━━━━━━━━━━━━\u001b[0m \u001b[32m14.2/14.2 MB\u001b[0m \u001b[31m10.5 MB/s\u001b[0m eta \u001b[36m0:00:00\u001b[0m\n",
            "\u001b[?25h  Downloading os_sys-2.0.5-py3-none-any.whl (12.2 MB)\n",
            "\u001b[2K     \u001b[90m━━━━━━━━━━━━━━━━━━━━━━━━━━━━━━━━━━━━━━━━\u001b[0m \u001b[32m12.2/12.2 MB\u001b[0m \u001b[31m8.8 MB/s\u001b[0m eta \u001b[36m0:00:00\u001b[0m\n",
            "\u001b[?25h  Downloading os_sys-2.0.4-py3-none-any.whl (50.9 MB)\n",
            "\u001b[2K     \u001b[90m━━━━━━━━━━━━━━━━━━━━━━━━━━━━━━━━━━━━━━━━\u001b[0m \u001b[32m50.9/50.9 MB\u001b[0m \u001b[31m6.4 MB/s\u001b[0m eta \u001b[36m0:00:00\u001b[0m\n",
            "\u001b[?25hCollecting webview (from os-sys)\n",
            "  Downloading webview-0.1.5.tar.gz (18 kB)\n",
            "  \u001b[1;31merror\u001b[0m: \u001b[1msubprocess-exited-with-error\u001b[0m\n",
            "  \n",
            "  \u001b[31m×\u001b[0m \u001b[32mpython setup.py egg_info\u001b[0m did not run successfully.\n",
            "  \u001b[31m│\u001b[0m exit code: \u001b[1;36m1\u001b[0m\n",
            "  \u001b[31m╰─>\u001b[0m See above for output.\n",
            "  \n",
            "  \u001b[1;35mnote\u001b[0m: This error originates from a subprocess, and is likely not a problem with pip.\n",
            "  Preparing metadata (setup.py) ... \u001b[?25l\u001b[?25herror\n",
            "\u001b[1;31merror\u001b[0m: \u001b[1mmetadata-generation-failed\u001b[0m\n",
            "\n",
            "\u001b[31m×\u001b[0m Encountered error while generating package metadata.\n",
            "\u001b[31m╰─>\u001b[0m See above for output.\n",
            "\n",
            "\u001b[1;35mnote\u001b[0m: This is an issue with the package mentioned above, not pip.\n",
            "\u001b[1;36mhint\u001b[0m: See above for details.\n"
          ]
        }
      ]
    },
    {
      "cell_type": "code",
      "execution_count": null,
      "metadata": {
        "id": "jIIn0_La_Tm9"
      },
      "outputs": [],
      "source": [
        "from datetime import datetime\n",
        "import seaborn as sns\n",
        "import ast"
      ]
    },
    {
      "cell_type": "code",
      "execution_count": null,
      "metadata": {
        "colab": {
          "base_uri": "https://localhost:8080/"
        },
        "id": "cOasHjcH_tJz",
        "outputId": "e8550e54-8ce1-4db7-a75a-0dcf22010137"
      },
      "outputs": [
        {
          "output_type": "stream",
          "name": "stdout",
          "text": [
            "Mounted at /content/drive\n"
          ]
        }
      ],
      "source": [
        "from google.colab import drive\n",
        "drive.mount('/content/drive')"
      ]
    },
    {
      "cell_type": "markdown",
      "metadata": {
        "id": "NOigAZUy_79L"
      },
      "source": [
        "**DATASET LINK : -** https://drive.google.com/file/d/1XWTyRqJcbo3e9C0FgRmqcIMj-dkZhnKR/view?usp=drive_link\n",
        "\n",
        "\n",
        "### Dataset Loading"
      ]
    },
    {
      "cell_type": "code",
      "execution_count": null,
      "metadata": {
        "id": "wOTLcWb_ANGq"
      },
      "outputs": [],
      "source": [
        "# Load Dataset\n",
        "database = \"/content/drive/MyDrive/Almabetter Hotel Booking EDA Project || Hariom/Hotel Bookings.csv\"\n",
        "hotel_booking_df = pd.read_csv(database)"
      ]
    },
    {
      "cell_type": "markdown",
      "metadata": {
        "id": "rVuJTy_oAvaF"
      },
      "source": [
        "###  First Dataset details"
      ]
    },
    {
      "cell_type": "code",
      "execution_count": null,
      "metadata": {
        "colab": {
          "base_uri": "https://localhost:8080/",
          "height": 661
        },
        "id": "QRAOp5wrA2sD",
        "outputId": "76521672-b713-4db0-f91e-7c845fc0e911"
      },
      "outputs": [
        {
          "output_type": "execute_result",
          "data": {
            "text/plain": [
              "               hotel  is_canceled  lead_time  arrival_date_year  \\\n",
              "0       Resort Hotel            0        342               2015   \n",
              "1       Resort Hotel            0        737               2015   \n",
              "2       Resort Hotel            0          7               2015   \n",
              "3       Resort Hotel            0         13               2015   \n",
              "4       Resort Hotel            0         14               2015   \n",
              "...              ...          ...        ...                ...   \n",
              "119385    City Hotel            0         23               2017   \n",
              "119386    City Hotel            0        102               2017   \n",
              "119387    City Hotel            0         34               2017   \n",
              "119388    City Hotel            0        109               2017   \n",
              "119389    City Hotel            0        205               2017   \n",
              "\n",
              "       arrival_date_month  arrival_date_week_number  \\\n",
              "0                    July                        27   \n",
              "1                    July                        27   \n",
              "2                    July                        27   \n",
              "3                    July                        27   \n",
              "4                    July                        27   \n",
              "...                   ...                       ...   \n",
              "119385             August                        35   \n",
              "119386             August                        35   \n",
              "119387             August                        35   \n",
              "119388             August                        35   \n",
              "119389             August                        35   \n",
              "\n",
              "        arrival_date_day_of_month  stays_in_weekend_nights  \\\n",
              "0                               1                        0   \n",
              "1                               1                        0   \n",
              "2                               1                        0   \n",
              "3                               1                        0   \n",
              "4                               1                        0   \n",
              "...                           ...                      ...   \n",
              "119385                         30                        2   \n",
              "119386                         31                        2   \n",
              "119387                         31                        2   \n",
              "119388                         31                        2   \n",
              "119389                         29                        2   \n",
              "\n",
              "        stays_in_week_nights  adults  ...  deposit_type  agent company  \\\n",
              "0                          0       2  ...    No Deposit    NaN     NaN   \n",
              "1                          0       2  ...    No Deposit    NaN     NaN   \n",
              "2                          1       1  ...    No Deposit    NaN     NaN   \n",
              "3                          1       1  ...    No Deposit  304.0     NaN   \n",
              "4                          2       2  ...    No Deposit  240.0     NaN   \n",
              "...                      ...     ...  ...           ...    ...     ...   \n",
              "119385                     5       2  ...    No Deposit  394.0     NaN   \n",
              "119386                     5       3  ...    No Deposit    9.0     NaN   \n",
              "119387                     5       2  ...    No Deposit    9.0     NaN   \n",
              "119388                     5       2  ...    No Deposit   89.0     NaN   \n",
              "119389                     7       2  ...    No Deposit    9.0     NaN   \n",
              "\n",
              "       days_in_waiting_list customer_type     adr  \\\n",
              "0                         0     Transient    0.00   \n",
              "1                         0     Transient    0.00   \n",
              "2                         0     Transient   75.00   \n",
              "3                         0     Transient   75.00   \n",
              "4                         0     Transient   98.00   \n",
              "...                     ...           ...     ...   \n",
              "119385                    0     Transient   96.14   \n",
              "119386                    0     Transient  225.43   \n",
              "119387                    0     Transient  157.71   \n",
              "119388                    0     Transient  104.40   \n",
              "119389                    0     Transient  151.20   \n",
              "\n",
              "        required_car_parking_spaces  total_of_special_requests  \\\n",
              "0                                 0                          0   \n",
              "1                                 0                          0   \n",
              "2                                 0                          0   \n",
              "3                                 0                          0   \n",
              "4                                 0                          1   \n",
              "...                             ...                        ...   \n",
              "119385                            0                          0   \n",
              "119386                            0                          2   \n",
              "119387                            0                          4   \n",
              "119388                            0                          0   \n",
              "119389                            0                          2   \n",
              "\n",
              "        reservation_status reservation_status_date  \n",
              "0                Check-Out              2015-07-01  \n",
              "1                Check-Out              2015-07-01  \n",
              "2                Check-Out              2015-07-02  \n",
              "3                Check-Out              2015-07-02  \n",
              "4                Check-Out              2015-07-03  \n",
              "...                    ...                     ...  \n",
              "119385           Check-Out              2017-09-06  \n",
              "119386           Check-Out              2017-09-07  \n",
              "119387           Check-Out              2017-09-07  \n",
              "119388           Check-Out              2017-09-07  \n",
              "119389           Check-Out              2017-09-07  \n",
              "\n",
              "[119390 rows x 32 columns]"
            ],
            "text/html": [
              "\n",
              "\n",
              "  <div id=\"df-e053362c-9366-4727-bd86-0bb9803db8e0\">\n",
              "    <div class=\"colab-df-container\">\n",
              "      <div>\n",
              "<style scoped>\n",
              "    .dataframe tbody tr th:only-of-type {\n",
              "        vertical-align: middle;\n",
              "    }\n",
              "\n",
              "    .dataframe tbody tr th {\n",
              "        vertical-align: top;\n",
              "    }\n",
              "\n",
              "    .dataframe thead th {\n",
              "        text-align: right;\n",
              "    }\n",
              "</style>\n",
              "<table border=\"1\" class=\"dataframe\">\n",
              "  <thead>\n",
              "    <tr style=\"text-align: right;\">\n",
              "      <th></th>\n",
              "      <th>hotel</th>\n",
              "      <th>is_canceled</th>\n",
              "      <th>lead_time</th>\n",
              "      <th>arrival_date_year</th>\n",
              "      <th>arrival_date_month</th>\n",
              "      <th>arrival_date_week_number</th>\n",
              "      <th>arrival_date_day_of_month</th>\n",
              "      <th>stays_in_weekend_nights</th>\n",
              "      <th>stays_in_week_nights</th>\n",
              "      <th>adults</th>\n",
              "      <th>...</th>\n",
              "      <th>deposit_type</th>\n",
              "      <th>agent</th>\n",
              "      <th>company</th>\n",
              "      <th>days_in_waiting_list</th>\n",
              "      <th>customer_type</th>\n",
              "      <th>adr</th>\n",
              "      <th>required_car_parking_spaces</th>\n",
              "      <th>total_of_special_requests</th>\n",
              "      <th>reservation_status</th>\n",
              "      <th>reservation_status_date</th>\n",
              "    </tr>\n",
              "  </thead>\n",
              "  <tbody>\n",
              "    <tr>\n",
              "      <th>0</th>\n",
              "      <td>Resort Hotel</td>\n",
              "      <td>0</td>\n",
              "      <td>342</td>\n",
              "      <td>2015</td>\n",
              "      <td>July</td>\n",
              "      <td>27</td>\n",
              "      <td>1</td>\n",
              "      <td>0</td>\n",
              "      <td>0</td>\n",
              "      <td>2</td>\n",
              "      <td>...</td>\n",
              "      <td>No Deposit</td>\n",
              "      <td>NaN</td>\n",
              "      <td>NaN</td>\n",
              "      <td>0</td>\n",
              "      <td>Transient</td>\n",
              "      <td>0.00</td>\n",
              "      <td>0</td>\n",
              "      <td>0</td>\n",
              "      <td>Check-Out</td>\n",
              "      <td>2015-07-01</td>\n",
              "    </tr>\n",
              "    <tr>\n",
              "      <th>1</th>\n",
              "      <td>Resort Hotel</td>\n",
              "      <td>0</td>\n",
              "      <td>737</td>\n",
              "      <td>2015</td>\n",
              "      <td>July</td>\n",
              "      <td>27</td>\n",
              "      <td>1</td>\n",
              "      <td>0</td>\n",
              "      <td>0</td>\n",
              "      <td>2</td>\n",
              "      <td>...</td>\n",
              "      <td>No Deposit</td>\n",
              "      <td>NaN</td>\n",
              "      <td>NaN</td>\n",
              "      <td>0</td>\n",
              "      <td>Transient</td>\n",
              "      <td>0.00</td>\n",
              "      <td>0</td>\n",
              "      <td>0</td>\n",
              "      <td>Check-Out</td>\n",
              "      <td>2015-07-01</td>\n",
              "    </tr>\n",
              "    <tr>\n",
              "      <th>2</th>\n",
              "      <td>Resort Hotel</td>\n",
              "      <td>0</td>\n",
              "      <td>7</td>\n",
              "      <td>2015</td>\n",
              "      <td>July</td>\n",
              "      <td>27</td>\n",
              "      <td>1</td>\n",
              "      <td>0</td>\n",
              "      <td>1</td>\n",
              "      <td>1</td>\n",
              "      <td>...</td>\n",
              "      <td>No Deposit</td>\n",
              "      <td>NaN</td>\n",
              "      <td>NaN</td>\n",
              "      <td>0</td>\n",
              "      <td>Transient</td>\n",
              "      <td>75.00</td>\n",
              "      <td>0</td>\n",
              "      <td>0</td>\n",
              "      <td>Check-Out</td>\n",
              "      <td>2015-07-02</td>\n",
              "    </tr>\n",
              "    <tr>\n",
              "      <th>3</th>\n",
              "      <td>Resort Hotel</td>\n",
              "      <td>0</td>\n",
              "      <td>13</td>\n",
              "      <td>2015</td>\n",
              "      <td>July</td>\n",
              "      <td>27</td>\n",
              "      <td>1</td>\n",
              "      <td>0</td>\n",
              "      <td>1</td>\n",
              "      <td>1</td>\n",
              "      <td>...</td>\n",
              "      <td>No Deposit</td>\n",
              "      <td>304.0</td>\n",
              "      <td>NaN</td>\n",
              "      <td>0</td>\n",
              "      <td>Transient</td>\n",
              "      <td>75.00</td>\n",
              "      <td>0</td>\n",
              "      <td>0</td>\n",
              "      <td>Check-Out</td>\n",
              "      <td>2015-07-02</td>\n",
              "    </tr>\n",
              "    <tr>\n",
              "      <th>4</th>\n",
              "      <td>Resort Hotel</td>\n",
              "      <td>0</td>\n",
              "      <td>14</td>\n",
              "      <td>2015</td>\n",
              "      <td>July</td>\n",
              "      <td>27</td>\n",
              "      <td>1</td>\n",
              "      <td>0</td>\n",
              "      <td>2</td>\n",
              "      <td>2</td>\n",
              "      <td>...</td>\n",
              "      <td>No Deposit</td>\n",
              "      <td>240.0</td>\n",
              "      <td>NaN</td>\n",
              "      <td>0</td>\n",
              "      <td>Transient</td>\n",
              "      <td>98.00</td>\n",
              "      <td>0</td>\n",
              "      <td>1</td>\n",
              "      <td>Check-Out</td>\n",
              "      <td>2015-07-03</td>\n",
              "    </tr>\n",
              "    <tr>\n",
              "      <th>...</th>\n",
              "      <td>...</td>\n",
              "      <td>...</td>\n",
              "      <td>...</td>\n",
              "      <td>...</td>\n",
              "      <td>...</td>\n",
              "      <td>...</td>\n",
              "      <td>...</td>\n",
              "      <td>...</td>\n",
              "      <td>...</td>\n",
              "      <td>...</td>\n",
              "      <td>...</td>\n",
              "      <td>...</td>\n",
              "      <td>...</td>\n",
              "      <td>...</td>\n",
              "      <td>...</td>\n",
              "      <td>...</td>\n",
              "      <td>...</td>\n",
              "      <td>...</td>\n",
              "      <td>...</td>\n",
              "      <td>...</td>\n",
              "      <td>...</td>\n",
              "    </tr>\n",
              "    <tr>\n",
              "      <th>119385</th>\n",
              "      <td>City Hotel</td>\n",
              "      <td>0</td>\n",
              "      <td>23</td>\n",
              "      <td>2017</td>\n",
              "      <td>August</td>\n",
              "      <td>35</td>\n",
              "      <td>30</td>\n",
              "      <td>2</td>\n",
              "      <td>5</td>\n",
              "      <td>2</td>\n",
              "      <td>...</td>\n",
              "      <td>No Deposit</td>\n",
              "      <td>394.0</td>\n",
              "      <td>NaN</td>\n",
              "      <td>0</td>\n",
              "      <td>Transient</td>\n",
              "      <td>96.14</td>\n",
              "      <td>0</td>\n",
              "      <td>0</td>\n",
              "      <td>Check-Out</td>\n",
              "      <td>2017-09-06</td>\n",
              "    </tr>\n",
              "    <tr>\n",
              "      <th>119386</th>\n",
              "      <td>City Hotel</td>\n",
              "      <td>0</td>\n",
              "      <td>102</td>\n",
              "      <td>2017</td>\n",
              "      <td>August</td>\n",
              "      <td>35</td>\n",
              "      <td>31</td>\n",
              "      <td>2</td>\n",
              "      <td>5</td>\n",
              "      <td>3</td>\n",
              "      <td>...</td>\n",
              "      <td>No Deposit</td>\n",
              "      <td>9.0</td>\n",
              "      <td>NaN</td>\n",
              "      <td>0</td>\n",
              "      <td>Transient</td>\n",
              "      <td>225.43</td>\n",
              "      <td>0</td>\n",
              "      <td>2</td>\n",
              "      <td>Check-Out</td>\n",
              "      <td>2017-09-07</td>\n",
              "    </tr>\n",
              "    <tr>\n",
              "      <th>119387</th>\n",
              "      <td>City Hotel</td>\n",
              "      <td>0</td>\n",
              "      <td>34</td>\n",
              "      <td>2017</td>\n",
              "      <td>August</td>\n",
              "      <td>35</td>\n",
              "      <td>31</td>\n",
              "      <td>2</td>\n",
              "      <td>5</td>\n",
              "      <td>2</td>\n",
              "      <td>...</td>\n",
              "      <td>No Deposit</td>\n",
              "      <td>9.0</td>\n",
              "      <td>NaN</td>\n",
              "      <td>0</td>\n",
              "      <td>Transient</td>\n",
              "      <td>157.71</td>\n",
              "      <td>0</td>\n",
              "      <td>4</td>\n",
              "      <td>Check-Out</td>\n",
              "      <td>2017-09-07</td>\n",
              "    </tr>\n",
              "    <tr>\n",
              "      <th>119388</th>\n",
              "      <td>City Hotel</td>\n",
              "      <td>0</td>\n",
              "      <td>109</td>\n",
              "      <td>2017</td>\n",
              "      <td>August</td>\n",
              "      <td>35</td>\n",
              "      <td>31</td>\n",
              "      <td>2</td>\n",
              "      <td>5</td>\n",
              "      <td>2</td>\n",
              "      <td>...</td>\n",
              "      <td>No Deposit</td>\n",
              "      <td>89.0</td>\n",
              "      <td>NaN</td>\n",
              "      <td>0</td>\n",
              "      <td>Transient</td>\n",
              "      <td>104.40</td>\n",
              "      <td>0</td>\n",
              "      <td>0</td>\n",
              "      <td>Check-Out</td>\n",
              "      <td>2017-09-07</td>\n",
              "    </tr>\n",
              "    <tr>\n",
              "      <th>119389</th>\n",
              "      <td>City Hotel</td>\n",
              "      <td>0</td>\n",
              "      <td>205</td>\n",
              "      <td>2017</td>\n",
              "      <td>August</td>\n",
              "      <td>35</td>\n",
              "      <td>29</td>\n",
              "      <td>2</td>\n",
              "      <td>7</td>\n",
              "      <td>2</td>\n",
              "      <td>...</td>\n",
              "      <td>No Deposit</td>\n",
              "      <td>9.0</td>\n",
              "      <td>NaN</td>\n",
              "      <td>0</td>\n",
              "      <td>Transient</td>\n",
              "      <td>151.20</td>\n",
              "      <td>0</td>\n",
              "      <td>2</td>\n",
              "      <td>Check-Out</td>\n",
              "      <td>2017-09-07</td>\n",
              "    </tr>\n",
              "  </tbody>\n",
              "</table>\n",
              "<p>119390 rows × 32 columns</p>\n",
              "</div>\n",
              "      <button class=\"colab-df-convert\" onclick=\"convertToInteractive('df-e053362c-9366-4727-bd86-0bb9803db8e0')\"\n",
              "              title=\"Convert this dataframe to an interactive table.\"\n",
              "              style=\"display:none;\">\n",
              "\n",
              "  <svg xmlns=\"http://www.w3.org/2000/svg\" height=\"24px\"viewBox=\"0 0 24 24\"\n",
              "       width=\"24px\">\n",
              "    <path d=\"M0 0h24v24H0V0z\" fill=\"none\"/>\n",
              "    <path d=\"M18.56 5.44l.94 2.06.94-2.06 2.06-.94-2.06-.94-.94-2.06-.94 2.06-2.06.94zm-11 1L8.5 8.5l.94-2.06 2.06-.94-2.06-.94L8.5 2.5l-.94 2.06-2.06.94zm10 10l.94 2.06.94-2.06 2.06-.94-2.06-.94-.94-2.06-.94 2.06-2.06.94z\"/><path d=\"M17.41 7.96l-1.37-1.37c-.4-.4-.92-.59-1.43-.59-.52 0-1.04.2-1.43.59L10.3 9.45l-7.72 7.72c-.78.78-.78 2.05 0 2.83L4 21.41c.39.39.9.59 1.41.59.51 0 1.02-.2 1.41-.59l7.78-7.78 2.81-2.81c.8-.78.8-2.07 0-2.86zM5.41 20L4 18.59l7.72-7.72 1.47 1.35L5.41 20z\"/>\n",
              "  </svg>\n",
              "      </button>\n",
              "\n",
              "\n",
              "\n",
              "    <div id=\"df-e3ff7f9d-446e-44e2-9362-933636126648\">\n",
              "      <button class=\"colab-df-quickchart\" onclick=\"quickchart('df-e3ff7f9d-446e-44e2-9362-933636126648')\"\n",
              "              title=\"Suggest charts.\"\n",
              "              style=\"display:none;\">\n",
              "\n",
              "<svg xmlns=\"http://www.w3.org/2000/svg\" height=\"24px\"viewBox=\"0 0 24 24\"\n",
              "     width=\"24px\">\n",
              "    <g>\n",
              "        <path d=\"M19 3H5c-1.1 0-2 .9-2 2v14c0 1.1.9 2 2 2h14c1.1 0 2-.9 2-2V5c0-1.1-.9-2-2-2zM9 17H7v-7h2v7zm4 0h-2V7h2v10zm4 0h-2v-4h2v4z\"/>\n",
              "    </g>\n",
              "</svg>\n",
              "      </button>\n",
              "    </div>\n",
              "\n",
              "<style>\n",
              "  .colab-df-quickchart {\n",
              "    background-color: #E8F0FE;\n",
              "    border: none;\n",
              "    border-radius: 50%;\n",
              "    cursor: pointer;\n",
              "    display: none;\n",
              "    fill: #1967D2;\n",
              "    height: 32px;\n",
              "    padding: 0 0 0 0;\n",
              "    width: 32px;\n",
              "  }\n",
              "\n",
              "  .colab-df-quickchart:hover {\n",
              "    background-color: #E2EBFA;\n",
              "    box-shadow: 0px 1px 2px rgba(60, 64, 67, 0.3), 0px 1px 3px 1px rgba(60, 64, 67, 0.15);\n",
              "    fill: #174EA6;\n",
              "  }\n",
              "\n",
              "  [theme=dark] .colab-df-quickchart {\n",
              "    background-color: #3B4455;\n",
              "    fill: #D2E3FC;\n",
              "  }\n",
              "\n",
              "  [theme=dark] .colab-df-quickchart:hover {\n",
              "    background-color: #434B5C;\n",
              "    box-shadow: 0px 1px 3px 1px rgba(0, 0, 0, 0.15);\n",
              "    filter: drop-shadow(0px 1px 2px rgba(0, 0, 0, 0.3));\n",
              "    fill: #FFFFFF;\n",
              "  }\n",
              "</style>\n",
              "\n",
              "    <script>\n",
              "      async function quickchart(key) {\n",
              "        const containerElement = document.querySelector('#' + key);\n",
              "        const charts = await google.colab.kernel.invokeFunction(\n",
              "            'suggestCharts', [key], {});\n",
              "      }\n",
              "    </script>\n",
              "\n",
              "      <script>\n",
              "\n",
              "function displayQuickchartButton(domScope) {\n",
              "  let quickchartButtonEl =\n",
              "    domScope.querySelector('#df-e3ff7f9d-446e-44e2-9362-933636126648 button.colab-df-quickchart');\n",
              "  quickchartButtonEl.style.display =\n",
              "    google.colab.kernel.accessAllowed ? 'block' : 'none';\n",
              "}\n",
              "\n",
              "        displayQuickchartButton(document);\n",
              "      </script>\n",
              "      <style>\n",
              "    .colab-df-container {\n",
              "      display:flex;\n",
              "      flex-wrap:wrap;\n",
              "      gap: 12px;\n",
              "    }\n",
              "\n",
              "    .colab-df-convert {\n",
              "      background-color: #E8F0FE;\n",
              "      border: none;\n",
              "      border-radius: 50%;\n",
              "      cursor: pointer;\n",
              "      display: none;\n",
              "      fill: #1967D2;\n",
              "      height: 32px;\n",
              "      padding: 0 0 0 0;\n",
              "      width: 32px;\n",
              "    }\n",
              "\n",
              "    .colab-df-convert:hover {\n",
              "      background-color: #E2EBFA;\n",
              "      box-shadow: 0px 1px 2px rgba(60, 64, 67, 0.3), 0px 1px 3px 1px rgba(60, 64, 67, 0.15);\n",
              "      fill: #174EA6;\n",
              "    }\n",
              "\n",
              "    [theme=dark] .colab-df-convert {\n",
              "      background-color: #3B4455;\n",
              "      fill: #D2E3FC;\n",
              "    }\n",
              "\n",
              "    [theme=dark] .colab-df-convert:hover {\n",
              "      background-color: #434B5C;\n",
              "      box-shadow: 0px 1px 3px 1px rgba(0, 0, 0, 0.15);\n",
              "      filter: drop-shadow(0px 1px 2px rgba(0, 0, 0, 0.3));\n",
              "      fill: #FFFFFF;\n",
              "    }\n",
              "  </style>\n",
              "\n",
              "      <script>\n",
              "        const buttonEl =\n",
              "          document.querySelector('#df-e053362c-9366-4727-bd86-0bb9803db8e0 button.colab-df-convert');\n",
              "        buttonEl.style.display =\n",
              "          google.colab.kernel.accessAllowed ? 'block' : 'none';\n",
              "\n",
              "        async function convertToInteractive(key) {\n",
              "          const element = document.querySelector('#df-e053362c-9366-4727-bd86-0bb9803db8e0');\n",
              "          const dataTable =\n",
              "            await google.colab.kernel.invokeFunction('convertToInteractive',\n",
              "                                                     [key], {});\n",
              "          if (!dataTable) return;\n",
              "\n",
              "          const docLinkHtml = 'Like what you see? Visit the ' +\n",
              "            '<a target=\"_blank\" href=https://colab.research.google.com/notebooks/data_table.ipynb>data table notebook</a>'\n",
              "            + ' to learn more about interactive tables.';\n",
              "          element.innerHTML = '';\n",
              "          dataTable['output_type'] = 'display_data';\n",
              "          await google.colab.output.renderOutput(dataTable, element);\n",
              "          const docLink = document.createElement('div');\n",
              "          docLink.innerHTML = docLinkHtml;\n",
              "          element.appendChild(docLink);\n",
              "        }\n",
              "      </script>\n",
              "    </div>\n",
              "  </div>\n"
            ]
          },
          "metadata": {},
          "execution_count": 7
        }
      ],
      "source": [
        "# Dataset First Look\n",
        "hotel_booking_df"
      ]
    },
    {
      "cell_type": "markdown",
      "metadata": {
        "id": "qrjC8Em6EfHb"
      },
      "source": [
        "### Dataset Rows & Columns count"
      ]
    },
    {
      "cell_type": "code",
      "execution_count": null,
      "metadata": {
        "colab": {
          "base_uri": "https://localhost:8080/"
        },
        "id": "ldHQ5I5bEfpJ",
        "outputId": "b80ecdb3-2fb3-4f45-8e65-775f1e1842e6"
      },
      "outputs": [
        {
          "name": "stdout",
          "output_type": "stream",
          "text": [
            "RangeIndex(start=0, stop=119390, step=1)\n",
            "\n",
            " \n",
            "\n",
            "Index(['hotel', 'is_canceled', 'lead_time', 'arrival_date_year',\n",
            "       'arrival_date_month', 'arrival_date_week_number',\n",
            "       'arrival_date_day_of_month', 'stays_in_weekend_nights',\n",
            "       'stays_in_week_nights', 'adults', 'children', 'babies', 'meal',\n",
            "       'country', 'market_segment', 'distribution_channel',\n",
            "       'is_repeated_guest', 'previous_cancellations',\n",
            "       'previous_bookings_not_canceled', 'reserved_room_type',\n",
            "       'assigned_room_type', 'booking_changes', 'deposit_type', 'agent',\n",
            "       'days_in_waiting_list', 'customer_type', 'adr',\n",
            "       'required_car_parking_spaces', 'total_of_special_requests',\n",
            "       'reservation_status', 'reservation_status_date'],\n",
            "      dtype='object')\n"
          ]
        }
      ],
      "source": [
        "# Dataset Rows & Columns count\n",
        "print(hotel_booking_df.index)\n",
        "print('\\n \\n')\n",
        "print(hotel_booking_df.columns)"
      ]
    },
    {
      "cell_type": "code",
      "execution_count": null,
      "metadata": {
        "colab": {
          "base_uri": "https://localhost:8080/"
        },
        "id": "mXIw4V7hE3Ow",
        "outputId": "02da5093-f63f-4ee9-9f4b-df16add08457"
      },
      "outputs": [
        {
          "name": "stdout",
          "output_type": "stream",
          "text": [
            "<class 'pandas.core.frame.DataFrame'>\n",
            "RangeIndex: 119390 entries, 0 to 119389\n",
            "Data columns (total 31 columns):\n",
            " #   Column                          Non-Null Count   Dtype  \n",
            "---  ------                          --------------   -----  \n",
            " 0   hotel                           119390 non-null  object \n",
            " 1   is_canceled                     119390 non-null  int64  \n",
            " 2   lead_time                       119390 non-null  int64  \n",
            " 3   arrival_date_year               119390 non-null  int64  \n",
            " 4   arrival_date_month              119390 non-null  object \n",
            " 5   arrival_date_week_number        119390 non-null  int64  \n",
            " 6   arrival_date_day_of_month       119390 non-null  int64  \n",
            " 7   stays_in_weekend_nights         119390 non-null  int64  \n",
            " 8   stays_in_week_nights            119390 non-null  int64  \n",
            " 9   adults                          119390 non-null  int64  \n",
            " 10  children                        119386 non-null  float64\n",
            " 11  babies                          119390 non-null  int64  \n",
            " 12  meal                            119390 non-null  object \n",
            " 13  country                         118902 non-null  object \n",
            " 14  market_segment                  119390 non-null  object \n",
            " 15  distribution_channel            119390 non-null  object \n",
            " 16  is_repeated_guest               119390 non-null  int64  \n",
            " 17  previous_cancellations          119390 non-null  int64  \n",
            " 18  previous_bookings_not_canceled  119390 non-null  int64  \n",
            " 19  reserved_room_type              119390 non-null  object \n",
            " 20  assigned_room_type              119390 non-null  object \n",
            " 21  booking_changes                 119390 non-null  int64  \n",
            " 22  deposit_type                    119390 non-null  object \n",
            " 23  agent                           119390 non-null  float64\n",
            " 24  days_in_waiting_list            119390 non-null  int64  \n",
            " 25  customer_type                   119390 non-null  object \n",
            " 26  adr                             119390 non-null  float64\n",
            " 27  required_car_parking_spaces     119390 non-null  int64  \n",
            " 28  total_of_special_requests       119390 non-null  int64  \n",
            " 29  reservation_status              119390 non-null  object \n",
            " 30  reservation_status_date         119390 non-null  object \n",
            "dtypes: float64(3), int64(16), object(12)\n",
            "memory usage: 28.2+ MB\n"
          ]
        }
      ],
      "source": [
        "# Dataset Info\n",
        "hotel_booking_df.info()"
      ]
    },
    {
      "cell_type": "code",
      "execution_count": null,
      "metadata": {
        "colab": {
          "base_uri": "https://localhost:8080/"
        },
        "id": "_xM2VyxME31J",
        "outputId": "7e265d46-6187-408e-8902-db24d07e37fc"
      },
      "outputs": [
        {
          "data": {
            "text/plain": [
              "87389"
            ]
          },
          "execution_count": 28,
          "metadata": {},
          "output_type": "execute_result"
        }
      ],
      "source": [
        "# Dataset Duplicate Value Count, to remove these values, we use function drop.duplicate to delete duplicate rows.\n",
        "hotel_booking_df.drop_duplicates(inplace = True)\n",
        "\n",
        "# total rows = 119390, Duplicate Rows = 31994\n",
        "uni_num_of_rows = hotel_booking_df.shape[0]\n",
        "\n",
        "uni_num_of_rows # now unique rows = 87396"
      ]
    },
    {
      "cell_type": "code",
      "execution_count": null,
      "metadata": {
        "colab": {
          "base_uri": "https://localhost:8080/",
          "height": 661
        },
        "id": "rwyri23RG9bI",
        "outputId": "e1aea977-63bc-4b40-ecda-8a2fcac59e7d"
      },
      "outputs": [
        {
          "data": {
            "text/html": [
              "\n",
              "\n",
              "  <div id=\"df-2c6e54db-d121-4699-ade5-e7b81b14672d\">\n",
              "    <div class=\"colab-df-container\">\n",
              "      <div>\n",
              "<style scoped>\n",
              "    .dataframe tbody tr th:only-of-type {\n",
              "        vertical-align: middle;\n",
              "    }\n",
              "\n",
              "    .dataframe tbody tr th {\n",
              "        vertical-align: top;\n",
              "    }\n",
              "\n",
              "    .dataframe thead th {\n",
              "        text-align: right;\n",
              "    }\n",
              "</style>\n",
              "<table border=\"1\" class=\"dataframe\">\n",
              "  <thead>\n",
              "    <tr style=\"text-align: right;\">\n",
              "      <th></th>\n",
              "      <th>index</th>\n",
              "      <th>hotel</th>\n",
              "      <th>is_canceled</th>\n",
              "      <th>lead_time</th>\n",
              "      <th>arrival_date_year</th>\n",
              "      <th>arrival_date_month</th>\n",
              "      <th>arrival_date_week_number</th>\n",
              "      <th>arrival_date_day_of_month</th>\n",
              "      <th>stays_in_weekend_nights</th>\n",
              "      <th>stays_in_week_nights</th>\n",
              "      <th>...</th>\n",
              "      <th>booking_changes</th>\n",
              "      <th>deposit_type</th>\n",
              "      <th>agent</th>\n",
              "      <th>days_in_waiting_list</th>\n",
              "      <th>customer_type</th>\n",
              "      <th>adr</th>\n",
              "      <th>required_car_parking_spaces</th>\n",
              "      <th>total_of_special_requests</th>\n",
              "      <th>reservation_status</th>\n",
              "      <th>reservation_status_date</th>\n",
              "    </tr>\n",
              "  </thead>\n",
              "  <tbody>\n",
              "    <tr>\n",
              "      <th>0</th>\n",
              "      <td>0</td>\n",
              "      <td>Resort Hotel</td>\n",
              "      <td>0</td>\n",
              "      <td>342</td>\n",
              "      <td>2015</td>\n",
              "      <td>July</td>\n",
              "      <td>27</td>\n",
              "      <td>1</td>\n",
              "      <td>0</td>\n",
              "      <td>0</td>\n",
              "      <td>...</td>\n",
              "      <td>3</td>\n",
              "      <td>No Deposit</td>\n",
              "      <td>0.0</td>\n",
              "      <td>0</td>\n",
              "      <td>Transient</td>\n",
              "      <td>0.00</td>\n",
              "      <td>0</td>\n",
              "      <td>0</td>\n",
              "      <td>Check-Out</td>\n",
              "      <td>2015-07-01</td>\n",
              "    </tr>\n",
              "    <tr>\n",
              "      <th>1</th>\n",
              "      <td>1</td>\n",
              "      <td>Resort Hotel</td>\n",
              "      <td>0</td>\n",
              "      <td>737</td>\n",
              "      <td>2015</td>\n",
              "      <td>July</td>\n",
              "      <td>27</td>\n",
              "      <td>1</td>\n",
              "      <td>0</td>\n",
              "      <td>0</td>\n",
              "      <td>...</td>\n",
              "      <td>4</td>\n",
              "      <td>No Deposit</td>\n",
              "      <td>0.0</td>\n",
              "      <td>0</td>\n",
              "      <td>Transient</td>\n",
              "      <td>0.00</td>\n",
              "      <td>0</td>\n",
              "      <td>0</td>\n",
              "      <td>Check-Out</td>\n",
              "      <td>2015-07-01</td>\n",
              "    </tr>\n",
              "    <tr>\n",
              "      <th>2</th>\n",
              "      <td>2</td>\n",
              "      <td>Resort Hotel</td>\n",
              "      <td>0</td>\n",
              "      <td>7</td>\n",
              "      <td>2015</td>\n",
              "      <td>July</td>\n",
              "      <td>27</td>\n",
              "      <td>1</td>\n",
              "      <td>0</td>\n",
              "      <td>1</td>\n",
              "      <td>...</td>\n",
              "      <td>0</td>\n",
              "      <td>No Deposit</td>\n",
              "      <td>0.0</td>\n",
              "      <td>0</td>\n",
              "      <td>Transient</td>\n",
              "      <td>75.00</td>\n",
              "      <td>0</td>\n",
              "      <td>0</td>\n",
              "      <td>Check-Out</td>\n",
              "      <td>2015-07-02</td>\n",
              "    </tr>\n",
              "    <tr>\n",
              "      <th>3</th>\n",
              "      <td>3</td>\n",
              "      <td>Resort Hotel</td>\n",
              "      <td>0</td>\n",
              "      <td>13</td>\n",
              "      <td>2015</td>\n",
              "      <td>July</td>\n",
              "      <td>27</td>\n",
              "      <td>1</td>\n",
              "      <td>0</td>\n",
              "      <td>1</td>\n",
              "      <td>...</td>\n",
              "      <td>0</td>\n",
              "      <td>No Deposit</td>\n",
              "      <td>304.0</td>\n",
              "      <td>0</td>\n",
              "      <td>Transient</td>\n",
              "      <td>75.00</td>\n",
              "      <td>0</td>\n",
              "      <td>0</td>\n",
              "      <td>Check-Out</td>\n",
              "      <td>2015-07-02</td>\n",
              "    </tr>\n",
              "    <tr>\n",
              "      <th>4</th>\n",
              "      <td>4</td>\n",
              "      <td>Resort Hotel</td>\n",
              "      <td>0</td>\n",
              "      <td>14</td>\n",
              "      <td>2015</td>\n",
              "      <td>July</td>\n",
              "      <td>27</td>\n",
              "      <td>1</td>\n",
              "      <td>0</td>\n",
              "      <td>2</td>\n",
              "      <td>...</td>\n",
              "      <td>0</td>\n",
              "      <td>No Deposit</td>\n",
              "      <td>240.0</td>\n",
              "      <td>0</td>\n",
              "      <td>Transient</td>\n",
              "      <td>98.00</td>\n",
              "      <td>0</td>\n",
              "      <td>1</td>\n",
              "      <td>Check-Out</td>\n",
              "      <td>2015-07-03</td>\n",
              "    </tr>\n",
              "    <tr>\n",
              "      <th>...</th>\n",
              "      <td>...</td>\n",
              "      <td>...</td>\n",
              "      <td>...</td>\n",
              "      <td>...</td>\n",
              "      <td>...</td>\n",
              "      <td>...</td>\n",
              "      <td>...</td>\n",
              "      <td>...</td>\n",
              "      <td>...</td>\n",
              "      <td>...</td>\n",
              "      <td>...</td>\n",
              "      <td>...</td>\n",
              "      <td>...</td>\n",
              "      <td>...</td>\n",
              "      <td>...</td>\n",
              "      <td>...</td>\n",
              "      <td>...</td>\n",
              "      <td>...</td>\n",
              "      <td>...</td>\n",
              "      <td>...</td>\n",
              "      <td>...</td>\n",
              "    </tr>\n",
              "    <tr>\n",
              "      <th>87384</th>\n",
              "      <td>119385</td>\n",
              "      <td>City Hotel</td>\n",
              "      <td>0</td>\n",
              "      <td>23</td>\n",
              "      <td>2017</td>\n",
              "      <td>August</td>\n",
              "      <td>35</td>\n",
              "      <td>30</td>\n",
              "      <td>2</td>\n",
              "      <td>5</td>\n",
              "      <td>...</td>\n",
              "      <td>0</td>\n",
              "      <td>No Deposit</td>\n",
              "      <td>394.0</td>\n",
              "      <td>0</td>\n",
              "      <td>Transient</td>\n",
              "      <td>96.14</td>\n",
              "      <td>0</td>\n",
              "      <td>0</td>\n",
              "      <td>Check-Out</td>\n",
              "      <td>2017-09-06</td>\n",
              "    </tr>\n",
              "    <tr>\n",
              "      <th>87385</th>\n",
              "      <td>119386</td>\n",
              "      <td>City Hotel</td>\n",
              "      <td>0</td>\n",
              "      <td>102</td>\n",
              "      <td>2017</td>\n",
              "      <td>August</td>\n",
              "      <td>35</td>\n",
              "      <td>31</td>\n",
              "      <td>2</td>\n",
              "      <td>5</td>\n",
              "      <td>...</td>\n",
              "      <td>0</td>\n",
              "      <td>No Deposit</td>\n",
              "      <td>9.0</td>\n",
              "      <td>0</td>\n",
              "      <td>Transient</td>\n",
              "      <td>225.43</td>\n",
              "      <td>0</td>\n",
              "      <td>2</td>\n",
              "      <td>Check-Out</td>\n",
              "      <td>2017-09-07</td>\n",
              "    </tr>\n",
              "    <tr>\n",
              "      <th>87386</th>\n",
              "      <td>119387</td>\n",
              "      <td>City Hotel</td>\n",
              "      <td>0</td>\n",
              "      <td>34</td>\n",
              "      <td>2017</td>\n",
              "      <td>August</td>\n",
              "      <td>35</td>\n",
              "      <td>31</td>\n",
              "      <td>2</td>\n",
              "      <td>5</td>\n",
              "      <td>...</td>\n",
              "      <td>0</td>\n",
              "      <td>No Deposit</td>\n",
              "      <td>9.0</td>\n",
              "      <td>0</td>\n",
              "      <td>Transient</td>\n",
              "      <td>157.71</td>\n",
              "      <td>0</td>\n",
              "      <td>4</td>\n",
              "      <td>Check-Out</td>\n",
              "      <td>2017-09-07</td>\n",
              "    </tr>\n",
              "    <tr>\n",
              "      <th>87387</th>\n",
              "      <td>119388</td>\n",
              "      <td>City Hotel</td>\n",
              "      <td>0</td>\n",
              "      <td>109</td>\n",
              "      <td>2017</td>\n",
              "      <td>August</td>\n",
              "      <td>35</td>\n",
              "      <td>31</td>\n",
              "      <td>2</td>\n",
              "      <td>5</td>\n",
              "      <td>...</td>\n",
              "      <td>0</td>\n",
              "      <td>No Deposit</td>\n",
              "      <td>89.0</td>\n",
              "      <td>0</td>\n",
              "      <td>Transient</td>\n",
              "      <td>104.40</td>\n",
              "      <td>0</td>\n",
              "      <td>0</td>\n",
              "      <td>Check-Out</td>\n",
              "      <td>2017-09-07</td>\n",
              "    </tr>\n",
              "    <tr>\n",
              "      <th>87388</th>\n",
              "      <td>119389</td>\n",
              "      <td>City Hotel</td>\n",
              "      <td>0</td>\n",
              "      <td>205</td>\n",
              "      <td>2017</td>\n",
              "      <td>August</td>\n",
              "      <td>35</td>\n",
              "      <td>29</td>\n",
              "      <td>2</td>\n",
              "      <td>7</td>\n",
              "      <td>...</td>\n",
              "      <td>0</td>\n",
              "      <td>No Deposit</td>\n",
              "      <td>9.0</td>\n",
              "      <td>0</td>\n",
              "      <td>Transient</td>\n",
              "      <td>151.20</td>\n",
              "      <td>0</td>\n",
              "      <td>2</td>\n",
              "      <td>Check-Out</td>\n",
              "      <td>2017-09-07</td>\n",
              "    </tr>\n",
              "  </tbody>\n",
              "</table>\n",
              "<p>87389 rows × 32 columns</p>\n",
              "</div>\n",
              "      <button class=\"colab-df-convert\" onclick=\"convertToInteractive('df-2c6e54db-d121-4699-ade5-e7b81b14672d')\"\n",
              "              title=\"Convert this dataframe to an interactive table.\"\n",
              "              style=\"display:none;\">\n",
              "\n",
              "  <svg xmlns=\"http://www.w3.org/2000/svg\" height=\"24px\"viewBox=\"0 0 24 24\"\n",
              "       width=\"24px\">\n",
              "    <path d=\"M0 0h24v24H0V0z\" fill=\"none\"/>\n",
              "    <path d=\"M18.56 5.44l.94 2.06.94-2.06 2.06-.94-2.06-.94-.94-2.06-.94 2.06-2.06.94zm-11 1L8.5 8.5l.94-2.06 2.06-.94-2.06-.94L8.5 2.5l-.94 2.06-2.06.94zm10 10l.94 2.06.94-2.06 2.06-.94-2.06-.94-.94-2.06-.94 2.06-2.06.94z\"/><path d=\"M17.41 7.96l-1.37-1.37c-.4-.4-.92-.59-1.43-.59-.52 0-1.04.2-1.43.59L10.3 9.45l-7.72 7.72c-.78.78-.78 2.05 0 2.83L4 21.41c.39.39.9.59 1.41.59.51 0 1.02-.2 1.41-.59l7.78-7.78 2.81-2.81c.8-.78.8-2.07 0-2.86zM5.41 20L4 18.59l7.72-7.72 1.47 1.35L5.41 20z\"/>\n",
              "  </svg>\n",
              "      </button>\n",
              "\n",
              "\n",
              "\n",
              "    <div id=\"df-479e13fd-cfba-462a-a371-a0514a380151\">\n",
              "      <button class=\"colab-df-quickchart\" onclick=\"quickchart('df-479e13fd-cfba-462a-a371-a0514a380151')\"\n",
              "              title=\"Suggest charts.\"\n",
              "              style=\"display:none;\">\n",
              "\n",
              "<svg xmlns=\"http://www.w3.org/2000/svg\" height=\"24px\"viewBox=\"0 0 24 24\"\n",
              "     width=\"24px\">\n",
              "    <g>\n",
              "        <path d=\"M19 3H5c-1.1 0-2 .9-2 2v14c0 1.1.9 2 2 2h14c1.1 0 2-.9 2-2V5c0-1.1-.9-2-2-2zM9 17H7v-7h2v7zm4 0h-2V7h2v10zm4 0h-2v-4h2v4z\"/>\n",
              "    </g>\n",
              "</svg>\n",
              "      </button>\n",
              "    </div>\n",
              "\n",
              "<style>\n",
              "  .colab-df-quickchart {\n",
              "    background-color: #E8F0FE;\n",
              "    border: none;\n",
              "    border-radius: 50%;\n",
              "    cursor: pointer;\n",
              "    display: none;\n",
              "    fill: #1967D2;\n",
              "    height: 32px;\n",
              "    padding: 0 0 0 0;\n",
              "    width: 32px;\n",
              "  }\n",
              "\n",
              "  .colab-df-quickchart:hover {\n",
              "    background-color: #E2EBFA;\n",
              "    box-shadow: 0px 1px 2px rgba(60, 64, 67, 0.3), 0px 1px 3px 1px rgba(60, 64, 67, 0.15);\n",
              "    fill: #174EA6;\n",
              "  }\n",
              "\n",
              "  [theme=dark] .colab-df-quickchart {\n",
              "    background-color: #3B4455;\n",
              "    fill: #D2E3FC;\n",
              "  }\n",
              "\n",
              "  [theme=dark] .colab-df-quickchart:hover {\n",
              "    background-color: #434B5C;\n",
              "    box-shadow: 0px 1px 3px 1px rgba(0, 0, 0, 0.15);\n",
              "    filter: drop-shadow(0px 1px 2px rgba(0, 0, 0, 0.3));\n",
              "    fill: #FFFFFF;\n",
              "  }\n",
              "</style>\n",
              "\n",
              "    <script>\n",
              "      async function quickchart(key) {\n",
              "        const containerElement = document.querySelector('#' + key);\n",
              "        const charts = await google.colab.kernel.invokeFunction(\n",
              "            'suggestCharts', [key], {});\n",
              "      }\n",
              "    </script>\n",
              "\n",
              "      <script>\n",
              "\n",
              "function displayQuickchartButton(domScope) {\n",
              "  let quickchartButtonEl =\n",
              "    domScope.querySelector('#df-479e13fd-cfba-462a-a371-a0514a380151 button.colab-df-quickchart');\n",
              "  quickchartButtonEl.style.display =\n",
              "    google.colab.kernel.accessAllowed ? 'block' : 'none';\n",
              "}\n",
              "\n",
              "        displayQuickchartButton(document);\n",
              "      </script>\n",
              "      <style>\n",
              "    .colab-df-container {\n",
              "      display:flex;\n",
              "      flex-wrap:wrap;\n",
              "      gap: 12px;\n",
              "    }\n",
              "\n",
              "    .colab-df-convert {\n",
              "      background-color: #E8F0FE;\n",
              "      border: none;\n",
              "      border-radius: 50%;\n",
              "      cursor: pointer;\n",
              "      display: none;\n",
              "      fill: #1967D2;\n",
              "      height: 32px;\n",
              "      padding: 0 0 0 0;\n",
              "      width: 32px;\n",
              "    }\n",
              "\n",
              "    .colab-df-convert:hover {\n",
              "      background-color: #E2EBFA;\n",
              "      box-shadow: 0px 1px 2px rgba(60, 64, 67, 0.3), 0px 1px 3px 1px rgba(60, 64, 67, 0.15);\n",
              "      fill: #174EA6;\n",
              "    }\n",
              "\n",
              "    [theme=dark] .colab-df-convert {\n",
              "      background-color: #3B4455;\n",
              "      fill: #D2E3FC;\n",
              "    }\n",
              "\n",
              "    [theme=dark] .colab-df-convert:hover {\n",
              "      background-color: #434B5C;\n",
              "      box-shadow: 0px 1px 3px 1px rgba(0, 0, 0, 0.15);\n",
              "      filter: drop-shadow(0px 1px 2px rgba(0, 0, 0, 0.3));\n",
              "      fill: #FFFFFF;\n",
              "    }\n",
              "  </style>\n",
              "\n",
              "      <script>\n",
              "        const buttonEl =\n",
              "          document.querySelector('#df-2c6e54db-d121-4699-ade5-e7b81b14672d button.colab-df-convert');\n",
              "        buttonEl.style.display =\n",
              "          google.colab.kernel.accessAllowed ? 'block' : 'none';\n",
              "\n",
              "        async function convertToInteractive(key) {\n",
              "          const element = document.querySelector('#df-2c6e54db-d121-4699-ade5-e7b81b14672d');\n",
              "          const dataTable =\n",
              "            await google.colab.kernel.invokeFunction('convertToInteractive',\n",
              "                                                     [key], {});\n",
              "          if (!dataTable) return;\n",
              "\n",
              "          const docLinkHtml = 'Like what you see? Visit the ' +\n",
              "            '<a target=\"_blank\" href=https://colab.research.google.com/notebooks/data_table.ipynb>data table notebook</a>'\n",
              "            + ' to learn more about interactive tables.';\n",
              "          element.innerHTML = '';\n",
              "          dataTable['output_type'] = 'display_data';\n",
              "          await google.colab.output.renderOutput(dataTable, element);\n",
              "          const docLink = document.createElement('div');\n",
              "          docLink.innerHTML = docLinkHtml;\n",
              "          element.appendChild(docLink);\n",
              "        }\n",
              "      </script>\n",
              "    </div>\n",
              "  </div>\n"
            ],
            "text/plain": [
              "        index         hotel  is_canceled  lead_time  arrival_date_year  \\\n",
              "0           0  Resort Hotel            0        342               2015   \n",
              "1           1  Resort Hotel            0        737               2015   \n",
              "2           2  Resort Hotel            0          7               2015   \n",
              "3           3  Resort Hotel            0         13               2015   \n",
              "4           4  Resort Hotel            0         14               2015   \n",
              "...       ...           ...          ...        ...                ...   \n",
              "87384  119385    City Hotel            0         23               2017   \n",
              "87385  119386    City Hotel            0        102               2017   \n",
              "87386  119387    City Hotel            0         34               2017   \n",
              "87387  119388    City Hotel            0        109               2017   \n",
              "87388  119389    City Hotel            0        205               2017   \n",
              "\n",
              "      arrival_date_month  arrival_date_week_number  arrival_date_day_of_month  \\\n",
              "0                   July                        27                          1   \n",
              "1                   July                        27                          1   \n",
              "2                   July                        27                          1   \n",
              "3                   July                        27                          1   \n",
              "4                   July                        27                          1   \n",
              "...                  ...                       ...                        ...   \n",
              "87384             August                        35                         30   \n",
              "87385             August                        35                         31   \n",
              "87386             August                        35                         31   \n",
              "87387             August                        35                         31   \n",
              "87388             August                        35                         29   \n",
              "\n",
              "       stays_in_weekend_nights  stays_in_week_nights  ...  booking_changes  \\\n",
              "0                            0                     0  ...                3   \n",
              "1                            0                     0  ...                4   \n",
              "2                            0                     1  ...                0   \n",
              "3                            0                     1  ...                0   \n",
              "4                            0                     2  ...                0   \n",
              "...                        ...                   ...  ...              ...   \n",
              "87384                        2                     5  ...                0   \n",
              "87385                        2                     5  ...                0   \n",
              "87386                        2                     5  ...                0   \n",
              "87387                        2                     5  ...                0   \n",
              "87388                        2                     7  ...                0   \n",
              "\n",
              "       deposit_type  agent days_in_waiting_list customer_type     adr  \\\n",
              "0        No Deposit    0.0                    0     Transient    0.00   \n",
              "1        No Deposit    0.0                    0     Transient    0.00   \n",
              "2        No Deposit    0.0                    0     Transient   75.00   \n",
              "3        No Deposit  304.0                    0     Transient   75.00   \n",
              "4        No Deposit  240.0                    0     Transient   98.00   \n",
              "...             ...    ...                  ...           ...     ...   \n",
              "87384    No Deposit  394.0                    0     Transient   96.14   \n",
              "87385    No Deposit    9.0                    0     Transient  225.43   \n",
              "87386    No Deposit    9.0                    0     Transient  157.71   \n",
              "87387    No Deposit   89.0                    0     Transient  104.40   \n",
              "87388    No Deposit    9.0                    0     Transient  151.20   \n",
              "\n",
              "      required_car_parking_spaces  total_of_special_requests  \\\n",
              "0                               0                          0   \n",
              "1                               0                          0   \n",
              "2                               0                          0   \n",
              "3                               0                          0   \n",
              "4                               0                          1   \n",
              "...                           ...                        ...   \n",
              "87384                           0                          0   \n",
              "87385                           0                          2   \n",
              "87386                           0                          4   \n",
              "87387                           0                          0   \n",
              "87388                           0                          2   \n",
              "\n",
              "       reservation_status  reservation_status_date  \n",
              "0               Check-Out               2015-07-01  \n",
              "1               Check-Out               2015-07-01  \n",
              "2               Check-Out               2015-07-02  \n",
              "3               Check-Out               2015-07-02  \n",
              "4               Check-Out               2015-07-03  \n",
              "...                   ...                      ...  \n",
              "87384           Check-Out               2017-09-06  \n",
              "87385           Check-Out               2017-09-07  \n",
              "87386           Check-Out               2017-09-07  \n",
              "87387           Check-Out               2017-09-07  \n",
              "87388           Check-Out               2017-09-07  \n",
              "\n",
              "[87389 rows x 32 columns]"
            ]
          },
          "execution_count": 29,
          "metadata": {},
          "output_type": "execute_result"
        }
      ],
      "source": [
        "hotel_booking_df.reset_index() #**View unique data**"
      ]
    },
    {
      "cell_type": "markdown",
      "metadata": {
        "id": "s4st9EQlH_N6"
      },
      "source": [
        "# **Missing Values/Null Values**"
      ]
    },
    {
      "cell_type": "code",
      "execution_count": null,
      "metadata": {
        "colab": {
          "base_uri": "https://localhost:8080/",
          "height": 661
        },
        "id": "m38hac0XHInl",
        "outputId": "ad3e157c-bea2-47cf-a9da-6e3fb0aec412"
      },
      "outputs": [
        {
          "data": {
            "text/html": [
              "\n",
              "\n",
              "  <div id=\"df-eb2f0db2-7a47-4061-a0e3-1df09059e502\">\n",
              "    <div class=\"colab-df-container\">\n",
              "      <div>\n",
              "<style scoped>\n",
              "    .dataframe tbody tr th:only-of-type {\n",
              "        vertical-align: middle;\n",
              "    }\n",
              "\n",
              "    .dataframe tbody tr th {\n",
              "        vertical-align: top;\n",
              "    }\n",
              "\n",
              "    .dataframe thead th {\n",
              "        text-align: right;\n",
              "    }\n",
              "</style>\n",
              "<table border=\"1\" class=\"dataframe\">\n",
              "  <thead>\n",
              "    <tr style=\"text-align: right;\">\n",
              "      <th></th>\n",
              "      <th>hotel</th>\n",
              "      <th>is_canceled</th>\n",
              "      <th>lead_time</th>\n",
              "      <th>arrival_date_year</th>\n",
              "      <th>arrival_date_month</th>\n",
              "      <th>arrival_date_week_number</th>\n",
              "      <th>arrival_date_day_of_month</th>\n",
              "      <th>stays_in_weekend_nights</th>\n",
              "      <th>stays_in_week_nights</th>\n",
              "      <th>adults</th>\n",
              "      <th>...</th>\n",
              "      <th>booking_changes</th>\n",
              "      <th>deposit_type</th>\n",
              "      <th>agent</th>\n",
              "      <th>days_in_waiting_list</th>\n",
              "      <th>customer_type</th>\n",
              "      <th>adr</th>\n",
              "      <th>required_car_parking_spaces</th>\n",
              "      <th>total_of_special_requests</th>\n",
              "      <th>reservation_status</th>\n",
              "      <th>reservation_status_date</th>\n",
              "    </tr>\n",
              "  </thead>\n",
              "  <tbody>\n",
              "    <tr>\n",
              "      <th>0</th>\n",
              "      <td>Resort Hotel</td>\n",
              "      <td>0</td>\n",
              "      <td>342</td>\n",
              "      <td>2015</td>\n",
              "      <td>July</td>\n",
              "      <td>27</td>\n",
              "      <td>1</td>\n",
              "      <td>0</td>\n",
              "      <td>0</td>\n",
              "      <td>2</td>\n",
              "      <td>...</td>\n",
              "      <td>3</td>\n",
              "      <td>No Deposit</td>\n",
              "      <td>0.0</td>\n",
              "      <td>0</td>\n",
              "      <td>Transient</td>\n",
              "      <td>0.00</td>\n",
              "      <td>0</td>\n",
              "      <td>0</td>\n",
              "      <td>Check-Out</td>\n",
              "      <td>2015-07-01</td>\n",
              "    </tr>\n",
              "    <tr>\n",
              "      <th>1</th>\n",
              "      <td>Resort Hotel</td>\n",
              "      <td>0</td>\n",
              "      <td>737</td>\n",
              "      <td>2015</td>\n",
              "      <td>July</td>\n",
              "      <td>27</td>\n",
              "      <td>1</td>\n",
              "      <td>0</td>\n",
              "      <td>0</td>\n",
              "      <td>2</td>\n",
              "      <td>...</td>\n",
              "      <td>4</td>\n",
              "      <td>No Deposit</td>\n",
              "      <td>0.0</td>\n",
              "      <td>0</td>\n",
              "      <td>Transient</td>\n",
              "      <td>0.00</td>\n",
              "      <td>0</td>\n",
              "      <td>0</td>\n",
              "      <td>Check-Out</td>\n",
              "      <td>2015-07-01</td>\n",
              "    </tr>\n",
              "    <tr>\n",
              "      <th>2</th>\n",
              "      <td>Resort Hotel</td>\n",
              "      <td>0</td>\n",
              "      <td>7</td>\n",
              "      <td>2015</td>\n",
              "      <td>July</td>\n",
              "      <td>27</td>\n",
              "      <td>1</td>\n",
              "      <td>0</td>\n",
              "      <td>1</td>\n",
              "      <td>1</td>\n",
              "      <td>...</td>\n",
              "      <td>0</td>\n",
              "      <td>No Deposit</td>\n",
              "      <td>0.0</td>\n",
              "      <td>0</td>\n",
              "      <td>Transient</td>\n",
              "      <td>75.00</td>\n",
              "      <td>0</td>\n",
              "      <td>0</td>\n",
              "      <td>Check-Out</td>\n",
              "      <td>2015-07-02</td>\n",
              "    </tr>\n",
              "    <tr>\n",
              "      <th>3</th>\n",
              "      <td>Resort Hotel</td>\n",
              "      <td>0</td>\n",
              "      <td>13</td>\n",
              "      <td>2015</td>\n",
              "      <td>July</td>\n",
              "      <td>27</td>\n",
              "      <td>1</td>\n",
              "      <td>0</td>\n",
              "      <td>1</td>\n",
              "      <td>1</td>\n",
              "      <td>...</td>\n",
              "      <td>0</td>\n",
              "      <td>No Deposit</td>\n",
              "      <td>304.0</td>\n",
              "      <td>0</td>\n",
              "      <td>Transient</td>\n",
              "      <td>75.00</td>\n",
              "      <td>0</td>\n",
              "      <td>0</td>\n",
              "      <td>Check-Out</td>\n",
              "      <td>2015-07-02</td>\n",
              "    </tr>\n",
              "    <tr>\n",
              "      <th>4</th>\n",
              "      <td>Resort Hotel</td>\n",
              "      <td>0</td>\n",
              "      <td>14</td>\n",
              "      <td>2015</td>\n",
              "      <td>July</td>\n",
              "      <td>27</td>\n",
              "      <td>1</td>\n",
              "      <td>0</td>\n",
              "      <td>2</td>\n",
              "      <td>2</td>\n",
              "      <td>...</td>\n",
              "      <td>0</td>\n",
              "      <td>No Deposit</td>\n",
              "      <td>240.0</td>\n",
              "      <td>0</td>\n",
              "      <td>Transient</td>\n",
              "      <td>98.00</td>\n",
              "      <td>0</td>\n",
              "      <td>1</td>\n",
              "      <td>Check-Out</td>\n",
              "      <td>2015-07-03</td>\n",
              "    </tr>\n",
              "    <tr>\n",
              "      <th>...</th>\n",
              "      <td>...</td>\n",
              "      <td>...</td>\n",
              "      <td>...</td>\n",
              "      <td>...</td>\n",
              "      <td>...</td>\n",
              "      <td>...</td>\n",
              "      <td>...</td>\n",
              "      <td>...</td>\n",
              "      <td>...</td>\n",
              "      <td>...</td>\n",
              "      <td>...</td>\n",
              "      <td>...</td>\n",
              "      <td>...</td>\n",
              "      <td>...</td>\n",
              "      <td>...</td>\n",
              "      <td>...</td>\n",
              "      <td>...</td>\n",
              "      <td>...</td>\n",
              "      <td>...</td>\n",
              "      <td>...</td>\n",
              "      <td>...</td>\n",
              "    </tr>\n",
              "    <tr>\n",
              "      <th>119385</th>\n",
              "      <td>City Hotel</td>\n",
              "      <td>0</td>\n",
              "      <td>23</td>\n",
              "      <td>2017</td>\n",
              "      <td>August</td>\n",
              "      <td>35</td>\n",
              "      <td>30</td>\n",
              "      <td>2</td>\n",
              "      <td>5</td>\n",
              "      <td>2</td>\n",
              "      <td>...</td>\n",
              "      <td>0</td>\n",
              "      <td>No Deposit</td>\n",
              "      <td>394.0</td>\n",
              "      <td>0</td>\n",
              "      <td>Transient</td>\n",
              "      <td>96.14</td>\n",
              "      <td>0</td>\n",
              "      <td>0</td>\n",
              "      <td>Check-Out</td>\n",
              "      <td>2017-09-06</td>\n",
              "    </tr>\n",
              "    <tr>\n",
              "      <th>119386</th>\n",
              "      <td>City Hotel</td>\n",
              "      <td>0</td>\n",
              "      <td>102</td>\n",
              "      <td>2017</td>\n",
              "      <td>August</td>\n",
              "      <td>35</td>\n",
              "      <td>31</td>\n",
              "      <td>2</td>\n",
              "      <td>5</td>\n",
              "      <td>3</td>\n",
              "      <td>...</td>\n",
              "      <td>0</td>\n",
              "      <td>No Deposit</td>\n",
              "      <td>9.0</td>\n",
              "      <td>0</td>\n",
              "      <td>Transient</td>\n",
              "      <td>225.43</td>\n",
              "      <td>0</td>\n",
              "      <td>2</td>\n",
              "      <td>Check-Out</td>\n",
              "      <td>2017-09-07</td>\n",
              "    </tr>\n",
              "    <tr>\n",
              "      <th>119387</th>\n",
              "      <td>City Hotel</td>\n",
              "      <td>0</td>\n",
              "      <td>34</td>\n",
              "      <td>2017</td>\n",
              "      <td>August</td>\n",
              "      <td>35</td>\n",
              "      <td>31</td>\n",
              "      <td>2</td>\n",
              "      <td>5</td>\n",
              "      <td>2</td>\n",
              "      <td>...</td>\n",
              "      <td>0</td>\n",
              "      <td>No Deposit</td>\n",
              "      <td>9.0</td>\n",
              "      <td>0</td>\n",
              "      <td>Transient</td>\n",
              "      <td>157.71</td>\n",
              "      <td>0</td>\n",
              "      <td>4</td>\n",
              "      <td>Check-Out</td>\n",
              "      <td>2017-09-07</td>\n",
              "    </tr>\n",
              "    <tr>\n",
              "      <th>119388</th>\n",
              "      <td>City Hotel</td>\n",
              "      <td>0</td>\n",
              "      <td>109</td>\n",
              "      <td>2017</td>\n",
              "      <td>August</td>\n",
              "      <td>35</td>\n",
              "      <td>31</td>\n",
              "      <td>2</td>\n",
              "      <td>5</td>\n",
              "      <td>2</td>\n",
              "      <td>...</td>\n",
              "      <td>0</td>\n",
              "      <td>No Deposit</td>\n",
              "      <td>89.0</td>\n",
              "      <td>0</td>\n",
              "      <td>Transient</td>\n",
              "      <td>104.40</td>\n",
              "      <td>0</td>\n",
              "      <td>0</td>\n",
              "      <td>Check-Out</td>\n",
              "      <td>2017-09-07</td>\n",
              "    </tr>\n",
              "    <tr>\n",
              "      <th>119389</th>\n",
              "      <td>City Hotel</td>\n",
              "      <td>0</td>\n",
              "      <td>205</td>\n",
              "      <td>2017</td>\n",
              "      <td>August</td>\n",
              "      <td>35</td>\n",
              "      <td>29</td>\n",
              "      <td>2</td>\n",
              "      <td>7</td>\n",
              "      <td>2</td>\n",
              "      <td>...</td>\n",
              "      <td>0</td>\n",
              "      <td>No Deposit</td>\n",
              "      <td>9.0</td>\n",
              "      <td>0</td>\n",
              "      <td>Transient</td>\n",
              "      <td>151.20</td>\n",
              "      <td>0</td>\n",
              "      <td>2</td>\n",
              "      <td>Check-Out</td>\n",
              "      <td>2017-09-07</td>\n",
              "    </tr>\n",
              "  </tbody>\n",
              "</table>\n",
              "<p>87389 rows × 31 columns</p>\n",
              "</div>\n",
              "      <button class=\"colab-df-convert\" onclick=\"convertToInteractive('df-eb2f0db2-7a47-4061-a0e3-1df09059e502')\"\n",
              "              title=\"Convert this dataframe to an interactive table.\"\n",
              "              style=\"display:none;\">\n",
              "\n",
              "  <svg xmlns=\"http://www.w3.org/2000/svg\" height=\"24px\"viewBox=\"0 0 24 24\"\n",
              "       width=\"24px\">\n",
              "    <path d=\"M0 0h24v24H0V0z\" fill=\"none\"/>\n",
              "    <path d=\"M18.56 5.44l.94 2.06.94-2.06 2.06-.94-2.06-.94-.94-2.06-.94 2.06-2.06.94zm-11 1L8.5 8.5l.94-2.06 2.06-.94-2.06-.94L8.5 2.5l-.94 2.06-2.06.94zm10 10l.94 2.06.94-2.06 2.06-.94-2.06-.94-.94-2.06-.94 2.06-2.06.94z\"/><path d=\"M17.41 7.96l-1.37-1.37c-.4-.4-.92-.59-1.43-.59-.52 0-1.04.2-1.43.59L10.3 9.45l-7.72 7.72c-.78.78-.78 2.05 0 2.83L4 21.41c.39.39.9.59 1.41.59.51 0 1.02-.2 1.41-.59l7.78-7.78 2.81-2.81c.8-.78.8-2.07 0-2.86zM5.41 20L4 18.59l7.72-7.72 1.47 1.35L5.41 20z\"/>\n",
              "  </svg>\n",
              "      </button>\n",
              "\n",
              "\n",
              "\n",
              "    <div id=\"df-c7ea7037-c1ae-4e4f-a948-f144e7473922\">\n",
              "      <button class=\"colab-df-quickchart\" onclick=\"quickchart('df-c7ea7037-c1ae-4e4f-a948-f144e7473922')\"\n",
              "              title=\"Suggest charts.\"\n",
              "              style=\"display:none;\">\n",
              "\n",
              "<svg xmlns=\"http://www.w3.org/2000/svg\" height=\"24px\"viewBox=\"0 0 24 24\"\n",
              "     width=\"24px\">\n",
              "    <g>\n",
              "        <path d=\"M19 3H5c-1.1 0-2 .9-2 2v14c0 1.1.9 2 2 2h14c1.1 0 2-.9 2-2V5c0-1.1-.9-2-2-2zM9 17H7v-7h2v7zm4 0h-2V7h2v10zm4 0h-2v-4h2v4z\"/>\n",
              "    </g>\n",
              "</svg>\n",
              "      </button>\n",
              "    </div>\n",
              "\n",
              "<style>\n",
              "  .colab-df-quickchart {\n",
              "    background-color: #E8F0FE;\n",
              "    border: none;\n",
              "    border-radius: 50%;\n",
              "    cursor: pointer;\n",
              "    display: none;\n",
              "    fill: #1967D2;\n",
              "    height: 32px;\n",
              "    padding: 0 0 0 0;\n",
              "    width: 32px;\n",
              "  }\n",
              "\n",
              "  .colab-df-quickchart:hover {\n",
              "    background-color: #E2EBFA;\n",
              "    box-shadow: 0px 1px 2px rgba(60, 64, 67, 0.3), 0px 1px 3px 1px rgba(60, 64, 67, 0.15);\n",
              "    fill: #174EA6;\n",
              "  }\n",
              "\n",
              "  [theme=dark] .colab-df-quickchart {\n",
              "    background-color: #3B4455;\n",
              "    fill: #D2E3FC;\n",
              "  }\n",
              "\n",
              "  [theme=dark] .colab-df-quickchart:hover {\n",
              "    background-color: #434B5C;\n",
              "    box-shadow: 0px 1px 3px 1px rgba(0, 0, 0, 0.15);\n",
              "    filter: drop-shadow(0px 1px 2px rgba(0, 0, 0, 0.3));\n",
              "    fill: #FFFFFF;\n",
              "  }\n",
              "</style>\n",
              "\n",
              "    <script>\n",
              "      async function quickchart(key) {\n",
              "        const containerElement = document.querySelector('#' + key);\n",
              "        const charts = await google.colab.kernel.invokeFunction(\n",
              "            'suggestCharts', [key], {});\n",
              "      }\n",
              "    </script>\n",
              "\n",
              "      <script>\n",
              "\n",
              "function displayQuickchartButton(domScope) {\n",
              "  let quickchartButtonEl =\n",
              "    domScope.querySelector('#df-c7ea7037-c1ae-4e4f-a948-f144e7473922 button.colab-df-quickchart');\n",
              "  quickchartButtonEl.style.display =\n",
              "    google.colab.kernel.accessAllowed ? 'block' : 'none';\n",
              "}\n",
              "\n",
              "        displayQuickchartButton(document);\n",
              "      </script>\n",
              "      <style>\n",
              "    .colab-df-container {\n",
              "      display:flex;\n",
              "      flex-wrap:wrap;\n",
              "      gap: 12px;\n",
              "    }\n",
              "\n",
              "    .colab-df-convert {\n",
              "      background-color: #E8F0FE;\n",
              "      border: none;\n",
              "      border-radius: 50%;\n",
              "      cursor: pointer;\n",
              "      display: none;\n",
              "      fill: #1967D2;\n",
              "      height: 32px;\n",
              "      padding: 0 0 0 0;\n",
              "      width: 32px;\n",
              "    }\n",
              "\n",
              "    .colab-df-convert:hover {\n",
              "      background-color: #E2EBFA;\n",
              "      box-shadow: 0px 1px 2px rgba(60, 64, 67, 0.3), 0px 1px 3px 1px rgba(60, 64, 67, 0.15);\n",
              "      fill: #174EA6;\n",
              "    }\n",
              "\n",
              "    [theme=dark] .colab-df-convert {\n",
              "      background-color: #3B4455;\n",
              "      fill: #D2E3FC;\n",
              "    }\n",
              "\n",
              "    [theme=dark] .colab-df-convert:hover {\n",
              "      background-color: #434B5C;\n",
              "      box-shadow: 0px 1px 3px 1px rgba(0, 0, 0, 0.15);\n",
              "      filter: drop-shadow(0px 1px 2px rgba(0, 0, 0, 0.3));\n",
              "      fill: #FFFFFF;\n",
              "    }\n",
              "  </style>\n",
              "\n",
              "      <script>\n",
              "        const buttonEl =\n",
              "          document.querySelector('#df-eb2f0db2-7a47-4061-a0e3-1df09059e502 button.colab-df-convert');\n",
              "        buttonEl.style.display =\n",
              "          google.colab.kernel.accessAllowed ? 'block' : 'none';\n",
              "\n",
              "        async function convertToInteractive(key) {\n",
              "          const element = document.querySelector('#df-eb2f0db2-7a47-4061-a0e3-1df09059e502');\n",
              "          const dataTable =\n",
              "            await google.colab.kernel.invokeFunction('convertToInteractive',\n",
              "                                                     [key], {});\n",
              "          if (!dataTable) return;\n",
              "\n",
              "          const docLinkHtml = 'Like what you see? Visit the ' +\n",
              "            '<a target=\"_blank\" href=https://colab.research.google.com/notebooks/data_table.ipynb>data table notebook</a>'\n",
              "            + ' to learn more about interactive tables.';\n",
              "          element.innerHTML = '';\n",
              "          dataTable['output_type'] = 'display_data';\n",
              "          await google.colab.output.renderOutput(dataTable, element);\n",
              "          const docLink = document.createElement('div');\n",
              "          docLink.innerHTML = docLinkHtml;\n",
              "          element.appendChild(docLink);\n",
              "        }\n",
              "      </script>\n",
              "    </div>\n",
              "  </div>\n"
            ],
            "text/plain": [
              "               hotel  is_canceled  lead_time  arrival_date_year  \\\n",
              "0       Resort Hotel            0        342               2015   \n",
              "1       Resort Hotel            0        737               2015   \n",
              "2       Resort Hotel            0          7               2015   \n",
              "3       Resort Hotel            0         13               2015   \n",
              "4       Resort Hotel            0         14               2015   \n",
              "...              ...          ...        ...                ...   \n",
              "119385    City Hotel            0         23               2017   \n",
              "119386    City Hotel            0        102               2017   \n",
              "119387    City Hotel            0         34               2017   \n",
              "119388    City Hotel            0        109               2017   \n",
              "119389    City Hotel            0        205               2017   \n",
              "\n",
              "       arrival_date_month  arrival_date_week_number  \\\n",
              "0                    July                        27   \n",
              "1                    July                        27   \n",
              "2                    July                        27   \n",
              "3                    July                        27   \n",
              "4                    July                        27   \n",
              "...                   ...                       ...   \n",
              "119385             August                        35   \n",
              "119386             August                        35   \n",
              "119387             August                        35   \n",
              "119388             August                        35   \n",
              "119389             August                        35   \n",
              "\n",
              "        arrival_date_day_of_month  stays_in_weekend_nights  \\\n",
              "0                               1                        0   \n",
              "1                               1                        0   \n",
              "2                               1                        0   \n",
              "3                               1                        0   \n",
              "4                               1                        0   \n",
              "...                           ...                      ...   \n",
              "119385                         30                        2   \n",
              "119386                         31                        2   \n",
              "119387                         31                        2   \n",
              "119388                         31                        2   \n",
              "119389                         29                        2   \n",
              "\n",
              "        stays_in_week_nights  adults  ...  booking_changes  deposit_type  \\\n",
              "0                          0       2  ...                3    No Deposit   \n",
              "1                          0       2  ...                4    No Deposit   \n",
              "2                          1       1  ...                0    No Deposit   \n",
              "3                          1       1  ...                0    No Deposit   \n",
              "4                          2       2  ...                0    No Deposit   \n",
              "...                      ...     ...  ...              ...           ...   \n",
              "119385                     5       2  ...                0    No Deposit   \n",
              "119386                     5       3  ...                0    No Deposit   \n",
              "119387                     5       2  ...                0    No Deposit   \n",
              "119388                     5       2  ...                0    No Deposit   \n",
              "119389                     7       2  ...                0    No Deposit   \n",
              "\n",
              "        agent days_in_waiting_list customer_type     adr  \\\n",
              "0         0.0                    0     Transient    0.00   \n",
              "1         0.0                    0     Transient    0.00   \n",
              "2         0.0                    0     Transient   75.00   \n",
              "3       304.0                    0     Transient   75.00   \n",
              "4       240.0                    0     Transient   98.00   \n",
              "...       ...                  ...           ...     ...   \n",
              "119385  394.0                    0     Transient   96.14   \n",
              "119386    9.0                    0     Transient  225.43   \n",
              "119387    9.0                    0     Transient  157.71   \n",
              "119388   89.0                    0     Transient  104.40   \n",
              "119389    9.0                    0     Transient  151.20   \n",
              "\n",
              "        required_car_parking_spaces  total_of_special_requests  \\\n",
              "0                                 0                          0   \n",
              "1                                 0                          0   \n",
              "2                                 0                          0   \n",
              "3                                 0                          0   \n",
              "4                                 0                          1   \n",
              "...                             ...                        ...   \n",
              "119385                            0                          0   \n",
              "119386                            0                          2   \n",
              "119387                            0                          4   \n",
              "119388                            0                          0   \n",
              "119389                            0                          2   \n",
              "\n",
              "        reservation_status reservation_status_date  \n",
              "0                Check-Out              2015-07-01  \n",
              "1                Check-Out              2015-07-01  \n",
              "2                Check-Out              2015-07-02  \n",
              "3                Check-Out              2015-07-02  \n",
              "4                Check-Out              2015-07-03  \n",
              "...                    ...                     ...  \n",
              "119385           Check-Out              2017-09-06  \n",
              "119386           Check-Out              2017-09-07  \n",
              "119387           Check-Out              2017-09-07  \n",
              "119388           Check-Out              2017-09-07  \n",
              "119389           Check-Out              2017-09-07  \n",
              "\n",
              "[87389 rows x 31 columns]"
            ]
          },
          "execution_count": 30,
          "metadata": {},
          "output_type": "execute_result"
        }
      ],
      "source": [
        "# Missing Values/Null Values Count\n",
        "null_value = hotel_booking_df.isnull() == True\n",
        "hotel_booking_df.fillna(np.nan, inplace = True)\n",
        "\n",
        "hotel_booking_df # we replace all the null value as NaN."
      ]
    },
    {
      "cell_type": "code",
      "execution_count": null,
      "metadata": {
        "colab": {
          "base_uri": "https://localhost:8080/"
        },
        "id": "wMUIwyPlIQYK",
        "outputId": "13363e07-a259-4030-f499-2fac70c9ef28"
      },
      "outputs": [
        {
          "data": {
            "text/plain": [
              "country                           452\n",
              "children                            4\n",
              "hotel                               0\n",
              "previous_cancellations              0\n",
              "reservation_status                  0\n",
              "total_of_special_requests           0\n",
              "required_car_parking_spaces         0\n",
              "adr                                 0\n",
              "customer_type                       0\n",
              "days_in_waiting_list                0\n",
              "agent                               0\n",
              "deposit_type                        0\n",
              "booking_changes                     0\n",
              "assigned_room_type                  0\n",
              "reserved_room_type                  0\n",
              "previous_bookings_not_canceled      0\n",
              "distribution_channel                0\n",
              "is_repeated_guest                   0\n",
              "is_canceled                         0\n",
              "market_segment                      0\n",
              "meal                                0\n",
              "babies                              0\n",
              "adults                              0\n",
              "stays_in_week_nights                0\n",
              "stays_in_weekend_nights             0\n",
              "arrival_date_day_of_month           0\n",
              "arrival_date_week_number            0\n",
              "arrival_date_month                  0\n",
              "arrival_date_year                   0\n",
              "lead_time                           0\n",
              "reservation_status_date             0\n",
              "dtype: int64"
            ]
          },
          "execution_count": 31,
          "metadata": {},
          "output_type": "execute_result"
        }
      ],
      "source": [
        "# Visualizing the missing values\n",
        "miss_values =hotel_booking_df.isnull().sum().sort_values(ascending=False)\n",
        "miss_values # We have check the count of null value in individual columns"
      ]
    },
    {
      "cell_type": "markdown",
      "metadata": {
        "id": "M6czsg8LKA4n"
      },
      "source": [
        "# **What did you know about your dataset?**\n",
        "\n",
        "A single file in this data collection analyses different booking details between two hotels: a city hotel and a resort hotel. includes details like the date the reservation was made, the number of people staying, the number of adults, kids, and/or babies, and the number of parking spaces available, among other things. There are 32 columns and 119390 rows in the entire dataset. Dataset contains duplicate items, such as 31944, which is later removed.Every column in this dataset has a data type, such as an integer, a float, or a text. We note that some of these data types are inaccurate and eliminate those columns afterward.We calculate the distinct value for each column, which represents the actual values for each column.\n"
      ]
    },
    {
      "cell_type": "markdown",
      "metadata": {
        "id": "ZLEXpSLSK-QT"
      },
      "source": [
        "## ***2. Understanding Your Variables***"
      ]
    },
    {
      "cell_type": "code",
      "execution_count": null,
      "metadata": {
        "colab": {
          "base_uri": "https://localhost:8080/"
        },
        "id": "ec24HZaZLEPv",
        "outputId": "ab4c27bb-c3f3-439e-d84c-21f0365b3c2f"
      },
      "outputs": [
        {
          "data": {
            "text/plain": [
              "Index(['hotel', 'is_canceled', 'lead_time', 'arrival_date_year',\n",
              "       'arrival_date_month', 'arrival_date_week_number',\n",
              "       'arrival_date_day_of_month', 'stays_in_weekend_nights',\n",
              "       'stays_in_week_nights', 'adults', 'children', 'babies', 'meal',\n",
              "       'country', 'market_segment', 'distribution_channel',\n",
              "       'is_repeated_guest', 'previous_cancellations',\n",
              "       'previous_bookings_not_canceled', 'reserved_room_type',\n",
              "       'assigned_room_type', 'booking_changes', 'deposit_type', 'agent',\n",
              "       'days_in_waiting_list', 'customer_type', 'adr',\n",
              "       'required_car_parking_spaces', 'total_of_special_requests',\n",
              "       'reservation_status', 'reservation_status_date'],\n",
              "      dtype='object')"
            ]
          },
          "execution_count": 32,
          "metadata": {},
          "output_type": "execute_result"
        }
      ],
      "source": [
        "# Dataset Columns\n",
        "df_column = hotel_booking_df.columns\n",
        "df_column\n"
      ]
    },
    {
      "cell_type": "code",
      "execution_count": null,
      "metadata": {
        "colab": {
          "base_uri": "https://localhost:8080/",
          "height": 364
        },
        "id": "abGh3Xx9LgMt",
        "outputId": "b06b0af0-3d4b-4643-f3b2-d80eb5357715"
      },
      "outputs": [
        {
          "data": {
            "text/html": [
              "\n",
              "\n",
              "  <div id=\"df-84885d2f-1bad-492a-9dd2-545ebed6ec3e\">\n",
              "    <div class=\"colab-df-container\">\n",
              "      <div>\n",
              "<style scoped>\n",
              "    .dataframe tbody tr th:only-of-type {\n",
              "        vertical-align: middle;\n",
              "    }\n",
              "\n",
              "    .dataframe tbody tr th {\n",
              "        vertical-align: top;\n",
              "    }\n",
              "\n",
              "    .dataframe thead th {\n",
              "        text-align: right;\n",
              "    }\n",
              "</style>\n",
              "<table border=\"1\" class=\"dataframe\">\n",
              "  <thead>\n",
              "    <tr style=\"text-align: right;\">\n",
              "      <th></th>\n",
              "      <th>is_canceled</th>\n",
              "      <th>lead_time</th>\n",
              "      <th>arrival_date_year</th>\n",
              "      <th>arrival_date_week_number</th>\n",
              "      <th>arrival_date_day_of_month</th>\n",
              "      <th>stays_in_weekend_nights</th>\n",
              "      <th>stays_in_week_nights</th>\n",
              "      <th>adults</th>\n",
              "      <th>children</th>\n",
              "      <th>babies</th>\n",
              "      <th>is_repeated_guest</th>\n",
              "      <th>previous_cancellations</th>\n",
              "      <th>previous_bookings_not_canceled</th>\n",
              "      <th>booking_changes</th>\n",
              "      <th>agent</th>\n",
              "      <th>days_in_waiting_list</th>\n",
              "      <th>adr</th>\n",
              "      <th>required_car_parking_spaces</th>\n",
              "      <th>total_of_special_requests</th>\n",
              "    </tr>\n",
              "  </thead>\n",
              "  <tbody>\n",
              "    <tr>\n",
              "      <th>count</th>\n",
              "      <td>87389.000000</td>\n",
              "      <td>87389.000000</td>\n",
              "      <td>87389.000000</td>\n",
              "      <td>87389.000000</td>\n",
              "      <td>87389.000000</td>\n",
              "      <td>87389.000000</td>\n",
              "      <td>87389.000000</td>\n",
              "      <td>87389.000000</td>\n",
              "      <td>87385.000000</td>\n",
              "      <td>87389.000000</td>\n",
              "      <td>87389.000000</td>\n",
              "      <td>87389.000000</td>\n",
              "      <td>87389.000000</td>\n",
              "      <td>87389.000000</td>\n",
              "      <td>87389.000000</td>\n",
              "      <td>87389.000000</td>\n",
              "      <td>87389.000000</td>\n",
              "      <td>87389.000000</td>\n",
              "      <td>87389.000000</td>\n",
              "    </tr>\n",
              "    <tr>\n",
              "      <th>mean</th>\n",
              "      <td>0.274920</td>\n",
              "      <td>79.897195</td>\n",
              "      <td>2016.210313</td>\n",
              "      <td>26.837760</td>\n",
              "      <td>15.815698</td>\n",
              "      <td>1.005321</td>\n",
              "      <td>2.625548</td>\n",
              "      <td>1.875842</td>\n",
              "      <td>0.138651</td>\n",
              "      <td>0.010825</td>\n",
              "      <td>0.039078</td>\n",
              "      <td>0.030416</td>\n",
              "      <td>0.184005</td>\n",
              "      <td>0.271625</td>\n",
              "      <td>81.008193</td>\n",
              "      <td>0.749625</td>\n",
              "      <td>106.339070</td>\n",
              "      <td>0.084233</td>\n",
              "      <td>0.698589</td>\n",
              "    </tr>\n",
              "    <tr>\n",
              "      <th>std</th>\n",
              "      <td>0.446477</td>\n",
              "      <td>86.053274</td>\n",
              "      <td>0.686094</td>\n",
              "      <td>13.674352</td>\n",
              "      <td>8.835244</td>\n",
              "      <td>1.031935</td>\n",
              "      <td>2.053591</td>\n",
              "      <td>0.626490</td>\n",
              "      <td>0.455897</td>\n",
              "      <td>0.113601</td>\n",
              "      <td>0.193782</td>\n",
              "      <td>0.369160</td>\n",
              "      <td>1.731962</td>\n",
              "      <td>0.727270</td>\n",
              "      <td>109.946820</td>\n",
              "      <td>10.016130</td>\n",
              "      <td>55.013097</td>\n",
              "      <td>0.281544</td>\n",
              "      <td>0.831950</td>\n",
              "    </tr>\n",
              "    <tr>\n",
              "      <th>min</th>\n",
              "      <td>0.000000</td>\n",
              "      <td>0.000000</td>\n",
              "      <td>2015.000000</td>\n",
              "      <td>1.000000</td>\n",
              "      <td>1.000000</td>\n",
              "      <td>0.000000</td>\n",
              "      <td>0.000000</td>\n",
              "      <td>0.000000</td>\n",
              "      <td>0.000000</td>\n",
              "      <td>0.000000</td>\n",
              "      <td>0.000000</td>\n",
              "      <td>0.000000</td>\n",
              "      <td>0.000000</td>\n",
              "      <td>0.000000</td>\n",
              "      <td>0.000000</td>\n",
              "      <td>0.000000</td>\n",
              "      <td>-6.380000</td>\n",
              "      <td>0.000000</td>\n",
              "      <td>0.000000</td>\n",
              "    </tr>\n",
              "    <tr>\n",
              "      <th>25%</th>\n",
              "      <td>0.000000</td>\n",
              "      <td>11.000000</td>\n",
              "      <td>2016.000000</td>\n",
              "      <td>16.000000</td>\n",
              "      <td>8.000000</td>\n",
              "      <td>0.000000</td>\n",
              "      <td>1.000000</td>\n",
              "      <td>2.000000</td>\n",
              "      <td>0.000000</td>\n",
              "      <td>0.000000</td>\n",
              "      <td>0.000000</td>\n",
              "      <td>0.000000</td>\n",
              "      <td>0.000000</td>\n",
              "      <td>0.000000</td>\n",
              "      <td>9.000000</td>\n",
              "      <td>0.000000</td>\n",
              "      <td>72.000000</td>\n",
              "      <td>0.000000</td>\n",
              "      <td>0.000000</td>\n",
              "    </tr>\n",
              "    <tr>\n",
              "      <th>50%</th>\n",
              "      <td>0.000000</td>\n",
              "      <td>49.000000</td>\n",
              "      <td>2016.000000</td>\n",
              "      <td>27.000000</td>\n",
              "      <td>16.000000</td>\n",
              "      <td>1.000000</td>\n",
              "      <td>2.000000</td>\n",
              "      <td>2.000000</td>\n",
              "      <td>0.000000</td>\n",
              "      <td>0.000000</td>\n",
              "      <td>0.000000</td>\n",
              "      <td>0.000000</td>\n",
              "      <td>0.000000</td>\n",
              "      <td>0.000000</td>\n",
              "      <td>9.000000</td>\n",
              "      <td>0.000000</td>\n",
              "      <td>98.100000</td>\n",
              "      <td>0.000000</td>\n",
              "      <td>0.000000</td>\n",
              "    </tr>\n",
              "    <tr>\n",
              "      <th>75%</th>\n",
              "      <td>1.000000</td>\n",
              "      <td>125.000000</td>\n",
              "      <td>2017.000000</td>\n",
              "      <td>37.000000</td>\n",
              "      <td>23.000000</td>\n",
              "      <td>2.000000</td>\n",
              "      <td>4.000000</td>\n",
              "      <td>2.000000</td>\n",
              "      <td>0.000000</td>\n",
              "      <td>0.000000</td>\n",
              "      <td>0.000000</td>\n",
              "      <td>0.000000</td>\n",
              "      <td>0.000000</td>\n",
              "      <td>0.000000</td>\n",
              "      <td>234.000000</td>\n",
              "      <td>0.000000</td>\n",
              "      <td>134.000000</td>\n",
              "      <td>0.000000</td>\n",
              "      <td>1.000000</td>\n",
              "    </tr>\n",
              "    <tr>\n",
              "      <th>max</th>\n",
              "      <td>1.000000</td>\n",
              "      <td>737.000000</td>\n",
              "      <td>2017.000000</td>\n",
              "      <td>53.000000</td>\n",
              "      <td>31.000000</td>\n",
              "      <td>19.000000</td>\n",
              "      <td>50.000000</td>\n",
              "      <td>55.000000</td>\n",
              "      <td>10.000000</td>\n",
              "      <td>10.000000</td>\n",
              "      <td>1.000000</td>\n",
              "      <td>26.000000</td>\n",
              "      <td>72.000000</td>\n",
              "      <td>21.000000</td>\n",
              "      <td>535.000000</td>\n",
              "      <td>391.000000</td>\n",
              "      <td>5400.000000</td>\n",
              "      <td>8.000000</td>\n",
              "      <td>5.000000</td>\n",
              "    </tr>\n",
              "  </tbody>\n",
              "</table>\n",
              "</div>\n",
              "      <button class=\"colab-df-convert\" onclick=\"convertToInteractive('df-84885d2f-1bad-492a-9dd2-545ebed6ec3e')\"\n",
              "              title=\"Convert this dataframe to an interactive table.\"\n",
              "              style=\"display:none;\">\n",
              "\n",
              "  <svg xmlns=\"http://www.w3.org/2000/svg\" height=\"24px\"viewBox=\"0 0 24 24\"\n",
              "       width=\"24px\">\n",
              "    <path d=\"M0 0h24v24H0V0z\" fill=\"none\"/>\n",
              "    <path d=\"M18.56 5.44l.94 2.06.94-2.06 2.06-.94-2.06-.94-.94-2.06-.94 2.06-2.06.94zm-11 1L8.5 8.5l.94-2.06 2.06-.94-2.06-.94L8.5 2.5l-.94 2.06-2.06.94zm10 10l.94 2.06.94-2.06 2.06-.94-2.06-.94-.94-2.06-.94 2.06-2.06.94z\"/><path d=\"M17.41 7.96l-1.37-1.37c-.4-.4-.92-.59-1.43-.59-.52 0-1.04.2-1.43.59L10.3 9.45l-7.72 7.72c-.78.78-.78 2.05 0 2.83L4 21.41c.39.39.9.59 1.41.59.51 0 1.02-.2 1.41-.59l7.78-7.78 2.81-2.81c.8-.78.8-2.07 0-2.86zM5.41 20L4 18.59l7.72-7.72 1.47 1.35L5.41 20z\"/>\n",
              "  </svg>\n",
              "      </button>\n",
              "\n",
              "\n",
              "\n",
              "    <div id=\"df-d3976d1e-538f-404e-ae9d-db96d9f60c9a\">\n",
              "      <button class=\"colab-df-quickchart\" onclick=\"quickchart('df-d3976d1e-538f-404e-ae9d-db96d9f60c9a')\"\n",
              "              title=\"Suggest charts.\"\n",
              "              style=\"display:none;\">\n",
              "\n",
              "<svg xmlns=\"http://www.w3.org/2000/svg\" height=\"24px\"viewBox=\"0 0 24 24\"\n",
              "     width=\"24px\">\n",
              "    <g>\n",
              "        <path d=\"M19 3H5c-1.1 0-2 .9-2 2v14c0 1.1.9 2 2 2h14c1.1 0 2-.9 2-2V5c0-1.1-.9-2-2-2zM9 17H7v-7h2v7zm4 0h-2V7h2v10zm4 0h-2v-4h2v4z\"/>\n",
              "    </g>\n",
              "</svg>\n",
              "      </button>\n",
              "    </div>\n",
              "\n",
              "<style>\n",
              "  .colab-df-quickchart {\n",
              "    background-color: #E8F0FE;\n",
              "    border: none;\n",
              "    border-radius: 50%;\n",
              "    cursor: pointer;\n",
              "    display: none;\n",
              "    fill: #1967D2;\n",
              "    height: 32px;\n",
              "    padding: 0 0 0 0;\n",
              "    width: 32px;\n",
              "  }\n",
              "\n",
              "  .colab-df-quickchart:hover {\n",
              "    background-color: #E2EBFA;\n",
              "    box-shadow: 0px 1px 2px rgba(60, 64, 67, 0.3), 0px 1px 3px 1px rgba(60, 64, 67, 0.15);\n",
              "    fill: #174EA6;\n",
              "  }\n",
              "\n",
              "  [theme=dark] .colab-df-quickchart {\n",
              "    background-color: #3B4455;\n",
              "    fill: #D2E3FC;\n",
              "  }\n",
              "\n",
              "  [theme=dark] .colab-df-quickchart:hover {\n",
              "    background-color: #434B5C;\n",
              "    box-shadow: 0px 1px 3px 1px rgba(0, 0, 0, 0.15);\n",
              "    filter: drop-shadow(0px 1px 2px rgba(0, 0, 0, 0.3));\n",
              "    fill: #FFFFFF;\n",
              "  }\n",
              "</style>\n",
              "\n",
              "    <script>\n",
              "      async function quickchart(key) {\n",
              "        const containerElement = document.querySelector('#' + key);\n",
              "        const charts = await google.colab.kernel.invokeFunction(\n",
              "            'suggestCharts', [key], {});\n",
              "      }\n",
              "    </script>\n",
              "\n",
              "      <script>\n",
              "\n",
              "function displayQuickchartButton(domScope) {\n",
              "  let quickchartButtonEl =\n",
              "    domScope.querySelector('#df-d3976d1e-538f-404e-ae9d-db96d9f60c9a button.colab-df-quickchart');\n",
              "  quickchartButtonEl.style.display =\n",
              "    google.colab.kernel.accessAllowed ? 'block' : 'none';\n",
              "}\n",
              "\n",
              "        displayQuickchartButton(document);\n",
              "      </script>\n",
              "      <style>\n",
              "    .colab-df-container {\n",
              "      display:flex;\n",
              "      flex-wrap:wrap;\n",
              "      gap: 12px;\n",
              "    }\n",
              "\n",
              "    .colab-df-convert {\n",
              "      background-color: #E8F0FE;\n",
              "      border: none;\n",
              "      border-radius: 50%;\n",
              "      cursor: pointer;\n",
              "      display: none;\n",
              "      fill: #1967D2;\n",
              "      height: 32px;\n",
              "      padding: 0 0 0 0;\n",
              "      width: 32px;\n",
              "    }\n",
              "\n",
              "    .colab-df-convert:hover {\n",
              "      background-color: #E2EBFA;\n",
              "      box-shadow: 0px 1px 2px rgba(60, 64, 67, 0.3), 0px 1px 3px 1px rgba(60, 64, 67, 0.15);\n",
              "      fill: #174EA6;\n",
              "    }\n",
              "\n",
              "    [theme=dark] .colab-df-convert {\n",
              "      background-color: #3B4455;\n",
              "      fill: #D2E3FC;\n",
              "    }\n",
              "\n",
              "    [theme=dark] .colab-df-convert:hover {\n",
              "      background-color: #434B5C;\n",
              "      box-shadow: 0px 1px 3px 1px rgba(0, 0, 0, 0.15);\n",
              "      filter: drop-shadow(0px 1px 2px rgba(0, 0, 0, 0.3));\n",
              "      fill: #FFFFFF;\n",
              "    }\n",
              "  </style>\n",
              "\n",
              "      <script>\n",
              "        const buttonEl =\n",
              "          document.querySelector('#df-84885d2f-1bad-492a-9dd2-545ebed6ec3e button.colab-df-convert');\n",
              "        buttonEl.style.display =\n",
              "          google.colab.kernel.accessAllowed ? 'block' : 'none';\n",
              "\n",
              "        async function convertToInteractive(key) {\n",
              "          const element = document.querySelector('#df-84885d2f-1bad-492a-9dd2-545ebed6ec3e');\n",
              "          const dataTable =\n",
              "            await google.colab.kernel.invokeFunction('convertToInteractive',\n",
              "                                                     [key], {});\n",
              "          if (!dataTable) return;\n",
              "\n",
              "          const docLinkHtml = 'Like what you see? Visit the ' +\n",
              "            '<a target=\"_blank\" href=https://colab.research.google.com/notebooks/data_table.ipynb>data table notebook</a>'\n",
              "            + ' to learn more about interactive tables.';\n",
              "          element.innerHTML = '';\n",
              "          dataTable['output_type'] = 'display_data';\n",
              "          await google.colab.output.renderOutput(dataTable, element);\n",
              "          const docLink = document.createElement('div');\n",
              "          docLink.innerHTML = docLinkHtml;\n",
              "          element.appendChild(docLink);\n",
              "        }\n",
              "      </script>\n",
              "    </div>\n",
              "  </div>\n"
            ],
            "text/plain": [
              "        is_canceled     lead_time  arrival_date_year  \\\n",
              "count  87389.000000  87389.000000       87389.000000   \n",
              "mean       0.274920     79.897195        2016.210313   \n",
              "std        0.446477     86.053274           0.686094   \n",
              "min        0.000000      0.000000        2015.000000   \n",
              "25%        0.000000     11.000000        2016.000000   \n",
              "50%        0.000000     49.000000        2016.000000   \n",
              "75%        1.000000    125.000000        2017.000000   \n",
              "max        1.000000    737.000000        2017.000000   \n",
              "\n",
              "       arrival_date_week_number  arrival_date_day_of_month  \\\n",
              "count              87389.000000               87389.000000   \n",
              "mean                  26.837760                  15.815698   \n",
              "std                   13.674352                   8.835244   \n",
              "min                    1.000000                   1.000000   \n",
              "25%                   16.000000                   8.000000   \n",
              "50%                   27.000000                  16.000000   \n",
              "75%                   37.000000                  23.000000   \n",
              "max                   53.000000                  31.000000   \n",
              "\n",
              "       stays_in_weekend_nights  stays_in_week_nights        adults  \\\n",
              "count             87389.000000          87389.000000  87389.000000   \n",
              "mean                  1.005321              2.625548      1.875842   \n",
              "std                   1.031935              2.053591      0.626490   \n",
              "min                   0.000000              0.000000      0.000000   \n",
              "25%                   0.000000              1.000000      2.000000   \n",
              "50%                   1.000000              2.000000      2.000000   \n",
              "75%                   2.000000              4.000000      2.000000   \n",
              "max                  19.000000             50.000000     55.000000   \n",
              "\n",
              "           children        babies  is_repeated_guest  previous_cancellations  \\\n",
              "count  87385.000000  87389.000000       87389.000000            87389.000000   \n",
              "mean       0.138651      0.010825           0.039078                0.030416   \n",
              "std        0.455897      0.113601           0.193782                0.369160   \n",
              "min        0.000000      0.000000           0.000000                0.000000   \n",
              "25%        0.000000      0.000000           0.000000                0.000000   \n",
              "50%        0.000000      0.000000           0.000000                0.000000   \n",
              "75%        0.000000      0.000000           0.000000                0.000000   \n",
              "max       10.000000     10.000000           1.000000               26.000000   \n",
              "\n",
              "       previous_bookings_not_canceled  booking_changes         agent  \\\n",
              "count                    87389.000000     87389.000000  87389.000000   \n",
              "mean                         0.184005         0.271625     81.008193   \n",
              "std                          1.731962         0.727270    109.946820   \n",
              "min                          0.000000         0.000000      0.000000   \n",
              "25%                          0.000000         0.000000      9.000000   \n",
              "50%                          0.000000         0.000000      9.000000   \n",
              "75%                          0.000000         0.000000    234.000000   \n",
              "max                         72.000000        21.000000    535.000000   \n",
              "\n",
              "       days_in_waiting_list           adr  required_car_parking_spaces  \\\n",
              "count          87389.000000  87389.000000                 87389.000000   \n",
              "mean               0.749625    106.339070                     0.084233   \n",
              "std               10.016130     55.013097                     0.281544   \n",
              "min                0.000000     -6.380000                     0.000000   \n",
              "25%                0.000000     72.000000                     0.000000   \n",
              "50%                0.000000     98.100000                     0.000000   \n",
              "75%                0.000000    134.000000                     0.000000   \n",
              "max              391.000000   5400.000000                     8.000000   \n",
              "\n",
              "       total_of_special_requests  \n",
              "count               87389.000000  \n",
              "mean                    0.698589  \n",
              "std                     0.831950  \n",
              "min                     0.000000  \n",
              "25%                     0.000000  \n",
              "50%                     0.000000  \n",
              "75%                     1.000000  \n",
              "max                     5.000000  "
            ]
          },
          "execution_count": 33,
          "metadata": {},
          "output_type": "execute_result"
        }
      ],
      "source": [
        "# Dataset Describe\n",
        "hotel_booking_df.describe()"
      ]
    },
    {
      "cell_type": "markdown",
      "metadata": {
        "id": "e7YcRJG8MEXG"
      },
      "source": [
        "# Variables Description"
      ]
    },
    {
      "cell_type": "markdown",
      "metadata": {
        "id": "Re6EOdXPMKs8"
      },
      "source": [
        "## Description of individual Variable\n",
        "  \n",
        "**The columns and the data it represents are listed below:**\n",
        "\n",
        "1. **hotel :** Name of the hotel (Resort Hotel or City Hotel)\n",
        "\n",
        "2. **is_canceled :** If the booking was canceled (1) or not (0)\n",
        "\n",
        "3. **lead_time:** Number of days before the actual arrival of the guests\n",
        "\n",
        "4. **arrival_date_year :** Year of arrival date\n",
        "\n",
        "5. **arrival_date_month :** Month of month arrival date\n",
        "\n",
        "6. **arrival_date_week_number :** Week number of year for arrival date\n",
        "\n",
        "7. **arrival_date_day_of_month :** Day of arrival date\n",
        "\n",
        "8. **stays_in_weekend_nights :** Number of weekend nights (Saturday or Sunday) spent at the hotel by the guests.\n",
        "\n",
        "9. **stays_in_week_nights :** Number of weeknights (Monday to Friday) spent at the hotel by the guests.\n",
        "\n",
        "10. **adults :** Number of adults among guests\n",
        "\n",
        "11. **children :** Number of children among guests\n",
        "\n",
        "12. **babies :** Number of babies among guests\n",
        "\n",
        "13. **meal :** Type of meal booked\n",
        "\n",
        "14. **country :** Country of guests\n",
        "\n",
        "15. **market_segment :** Designation of market segment\n",
        "\n",
        "16. **distribution_channel :** Name of booking distribution channel\n",
        "\n",
        "17. **is_repeated_guest :** If the booking was from a repeated guest (1) or not (0)\n",
        "\n",
        "18. **previous_cancellations :** Number of previous bookings that were cancelled by the customer prior to the current booking\n",
        "\n",
        "19. **previous_bookings_not_canceled :** Number of previous bookings not cancelled by the customer prior to the current booking\n",
        "\n",
        "20. **reserved_room_type :** Code of room type reserved\n",
        "\n",
        "21. **assigned_room_type :** Code of room type assigned\n",
        "\n",
        "22. **booking_changes :** Number of changes/amendments made to the booking\n",
        "\n",
        "23. **deposit_type :** Type of the deposit made by the guest\n",
        "\n",
        "24. **agent :** ID of travel agent who made the booking\n",
        "\n",
        "25. **company :** ID of the company that made the booking\n",
        "\n",
        "26. **days_in_waiting_list :** Number of days the booking was in the waiting list\n",
        "\n",
        "27. **customer_type :** Type of customer, assuming one of four categories\n",
        "\n",
        "28. **adr :** Average Daily Rate, as defined by dividing the sum of all lodging transactions by the total number of staying nights\n",
        "\n",
        "29. **required_car_parking_spaces :** Number of car parking spaces required by the customer\n",
        "\n",
        "30. **total_of_special_requests :** Number of special requests made by the customer\n",
        "\n",
        "31. **reservation_status :** Reservation status (Canceled, Check-Out or No-Show)\n",
        "\n",
        "32. **reservation_status_date :** Date at which the last reservation status was updated"
      ]
    },
    {
      "cell_type": "markdown",
      "metadata": {
        "id": "nQ3WXNMrMRTy"
      },
      "source": [
        "### Check Unique Values for each variable.\n"
      ]
    },
    {
      "cell_type": "code",
      "execution_count": null,
      "metadata": {
        "colab": {
          "base_uri": "https://localhost:8080/"
        },
        "id": "7iV307s1MWRf",
        "outputId": "0e3b3051-4ded-4f7a-d104-38f1dbbb2970"
      },
      "outputs": [
        {
          "name": "stdout",
          "output_type": "stream",
          "text": [
            "hotel                                                    [Resort Hotel, City Hotel]\n",
            "is_canceled                                                                  [0, 1]\n",
            "lead_time                         [342, 737, 7, 13, 14, 0, 9, 85, 75, 23, 35, 68...\n",
            "arrival_date_year                                                [2015, 2016, 2017]\n",
            "arrival_date_month                [July, August, September, October, November, D...\n",
            "arrival_date_week_number          [27, 28, 29, 30, 31, 32, 33, 34, 35, 36, 37, 3...\n",
            "arrival_date_day_of_month         [1, 2, 3, 4, 5, 6, 7, 8, 9, 10, 11, 12, 13, 14...\n",
            "stays_in_weekend_nights           [0, 1, 2, 4, 3, 6, 13, 8, 5, 7, 12, 9, 16, 18,...\n",
            "stays_in_week_nights              [0, 1, 2, 3, 4, 5, 10, 11, 8, 6, 7, 15, 9, 12,...\n",
            "adults                            [2, 1, 3, 4, 40, 26, 50, 27, 55, 0, 20, 6, 5, 10]\n",
            "children                                            [0.0, 1.0, 2.0, 10.0, 3.0, nan]\n",
            "babies                                                             [0, 1, 2, 10, 9]\n",
            "meal                                                    [BB, FB, HB, SC, Undefined]\n",
            "country                           [PRT, GBR, USA, ESP, IRL, FRA, nan, ROU, NOR, ...\n",
            "market_segment                    [Direct, Corporate, Online TA, Offline TA/TO, ...\n",
            "distribution_channel                     [Direct, Corporate, TA/TO, Undefined, GDS]\n",
            "is_repeated_guest                                                            [0, 1]\n",
            "previous_cancellations            [0, 1, 2, 3, 26, 25, 14, 4, 24, 19, 5, 21, 6, ...\n",
            "previous_bookings_not_canceled    [0, 1, 2, 3, 4, 5, 6, 7, 8, 9, 10, 11, 12, 13,...\n",
            "reserved_room_type                                   [C, A, D, E, G, F, H, L, P, B]\n",
            "assigned_room_type                             [C, A, D, E, G, F, I, B, H, P, L, K]\n",
            "booking_changes                   [3, 4, 0, 1, 2, 5, 17, 6, 8, 7, 10, 16, 9, 13,...\n",
            "deposit_type                                   [No Deposit, Refundable, Non Refund]\n",
            "agent                             [0.0, 304.0, 240.0, 303.0, 15.0, 241.0, 8.0, 2...\n",
            "days_in_waiting_list              [0, 50, 47, 65, 122, 75, 101, 150, 125, 14, 60...\n",
            "customer_type                         [Transient, Contract, Transient-Party, Group]\n",
            "adr                               [0.0, 75.0, 98.0, 107.0, 103.0, 82.0, 105.5, 1...\n",
            "required_car_parking_spaces                                         [0, 1, 2, 8, 3]\n",
            "total_of_special_requests                                        [0, 1, 3, 2, 4, 5]\n",
            "reservation_status                                   [Check-Out, Canceled, No-Show]\n",
            "reservation_status_date           [2015-07-01, 2015-07-02, 2015-07-03, 2015-05-0...\n",
            "dtype: object\n"
          ]
        }
      ],
      "source": [
        "# Check Unique Values for each variable.\n",
        "print(hotel_booking_df.apply(lambda col: col.unique())) # We have describes unique value in all individual column."
      ]
    },
    {
      "cell_type": "markdown",
      "metadata": {
        "id": "1t8Bz7bCYFCh"
      },
      "source": [
        "## 3. ***Data Wrangling***"
      ]
    },
    {
      "cell_type": "code",
      "execution_count": null,
      "metadata": {
        "colab": {
          "base_uri": "https://localhost:8080/"
        },
        "id": "Eql1Ax0KYMDg",
        "outputId": "c7f95e00-1b09-4349-efad-e7918b744d8d"
      },
      "outputs": [
        {
          "data": {
            "text/plain": [
              "0.5172275686871345"
            ]
          },
          "execution_count": 35,
          "metadata": {},
          "output_type": "execute_result"
        }
      ],
      "source": [
        "#lets check, what is the percentage of null value in each column, starting from company\n",
        "\n",
        "percentage_company_null = miss_values[0] / uni_num_of_rows*100\n",
        "percentage_company_null"
      ]
    },
    {
      "cell_type": "code",
      "execution_count": null,
      "metadata": {
        "colab": {
          "base_uri": "https://localhost:8080/"
        },
        "id": "yjkYYASAMW5E",
        "outputId": "ef0ae92d-528e-4a93-abf1-37882b64f55b"
      },
      "outputs": [
        {
          "data": {
            "text/plain": [
              "country                   452\n",
              "children                    4\n",
              "hotel                       0\n",
              "previous_cancellations      0\n",
              "dtype: int64"
            ]
          },
          "execution_count": 36,
          "metadata": {},
          "output_type": "execute_result"
        }
      ],
      "source": [
        "#data cleaing\n",
        "\n",
        "\n",
        "#to fill the NaN value in the column, let's check which colomns has null value, we have already stored the same.\n",
        "miss_values[:4]"
      ]
    },
    {
      "cell_type": "code",
      "execution_count": null,
      "metadata": {
        "id": "OiZ9lgCGYfB2"
      },
      "outputs": [],
      "source": [
        "# It is better to drop the column 'company' altogether since the number of missing values is extremely high compared to the number of rows.\n",
        "\n",
        "hotel_booking_df.drop(['company'], axis=1, inplace=True)\n"
      ]
    },
    {
      "cell_type": "code",
      "execution_count": null,
      "metadata": {
        "colab": {
          "base_uri": "https://localhost:8080/"
        },
        "id": "1vp5DOXxYfe7",
        "outputId": "6d2b71bd-de0a-4349-88d9-30d1a3a07dc4"
      },
      "outputs": [
        {
          "data": {
            "text/plain": [
              "0.004577235121125085"
            ]
          },
          "execution_count": 37,
          "metadata": {},
          "output_type": "execute_result"
        }
      ],
      "source": [
        "# now let's check for agent\n",
        "\n",
        "percentage_agent_null = miss_values[1] / uni_num_of_rows*100\n",
        "percentage_agent_null"
      ]
    },
    {
      "cell_type": "code",
      "execution_count": null,
      "metadata": {
        "colab": {
          "base_uri": "https://localhost:8080/"
        },
        "id": "ezmpqgEvYidk",
        "outputId": "a9b6f419-9d4c-45d0-b148-7c64d0d3713e"
      },
      "outputs": [
        {
          "data": {
            "text/plain": [
              "0"
            ]
          },
          "execution_count": 23,
          "metadata": {},
          "output_type": "execute_result"
        }
      ],
      "source": [
        "# As we have seen, there is minimul null values in agent, Lets fill these value by taking mode of the all values\n",
        "\n",
        "hotel_booking_df['agent'].fillna(value = 0, inplace = True)\n",
        "hotel_booking_df['agent'].isnull().sum() # we re-check that column has no null value"
      ]
    },
    {
      "cell_type": "code",
      "execution_count": null,
      "metadata": {
        "colab": {
          "base_uri": "https://localhost:8080/"
        },
        "id": "quJHdUZgYlfo",
        "outputId": "b60dc48c-8b46-4825-8559-5a437a1d49f2"
      },
      "outputs": [
        {
          "data": {
            "text/plain": [
              "0.0"
            ]
          },
          "execution_count": 38,
          "metadata": {},
          "output_type": "execute_result"
        }
      ],
      "source": [
        "#Check the percentage null value in country col\n",
        "\n",
        "percentage_country_null = miss_values[2] / uni_num_of_rows*100\n",
        "percentage_country_null\n"
      ]
    },
    {
      "cell_type": "code",
      "execution_count": null,
      "metadata": {
        "colab": {
          "base_uri": "https://localhost:8080/"
        },
        "id": "LsDohyZPYpKR",
        "outputId": "478ace5c-246a-41f9-c650-49a2e3b730bb"
      },
      "outputs": [
        {
          "data": {
            "text/plain": [
              "0"
            ]
          },
          "execution_count": 39,
          "metadata": {},
          "output_type": "execute_result"
        }
      ],
      "source": [
        "# We have less null vlues in country col, so we will replace null from 'other' as country name.\n",
        "\n",
        "hotel_booking_df['country'].fillna(value = 'others', inplace = True)\n",
        "hotel_booking_df['country'].isnull().sum() # we re-check that column has no null value"
      ]
    },
    {
      "cell_type": "code",
      "execution_count": null,
      "metadata": {
        "colab": {
          "base_uri": "https://localhost:8080/"
        },
        "id": "2sLgLyaRYrhD",
        "outputId": "e024c5bb-a2af-4a51-89da-8b44419cfebd"
      },
      "outputs": [
        {
          "data": {
            "text/plain": [
              "0.0"
            ]
          },
          "execution_count": 40,
          "metadata": {},
          "output_type": "execute_result"
        }
      ],
      "source": [
        "#Check the percentage null value in children col\n",
        "\n",
        "percentage_children_null = miss_values[3] / uni_num_of_rows*100\n",
        "percentage_children_null"
      ]
    },
    {
      "cell_type": "code",
      "execution_count": null,
      "metadata": {
        "colab": {
          "base_uri": "https://localhost:8080/"
        },
        "id": "PO-4lsOFYt7g",
        "outputId": "0f63b387-d763-4015-ed6e-0574a656a077"
      },
      "outputs": [
        {
          "data": {
            "text/plain": [
              "hotel                             0\n",
              "is_canceled                       0\n",
              "lead_time                         0\n",
              "arrival_date_year                 0\n",
              "arrival_date_month                0\n",
              "arrival_date_week_number          0\n",
              "arrival_date_day_of_month         0\n",
              "stays_in_weekend_nights           0\n",
              "stays_in_week_nights              0\n",
              "adults                            0\n",
              "children                          4\n",
              "babies                            0\n",
              "meal                              0\n",
              "country                           0\n",
              "market_segment                    0\n",
              "distribution_channel              0\n",
              "is_repeated_guest                 0\n",
              "previous_cancellations            0\n",
              "previous_bookings_not_canceled    0\n",
              "reserved_room_type                0\n",
              "assigned_room_type                0\n",
              "booking_changes                   0\n",
              "deposit_type                      0\n",
              "agent                             0\n",
              "days_in_waiting_list              0\n",
              "customer_type                     0\n",
              "adr                               0\n",
              "required_car_parking_spaces       0\n",
              "total_of_special_requests         0\n",
              "reservation_status                0\n",
              "reservation_status_date           0\n",
              "dtype: int64"
            ]
          },
          "execution_count": 41,
          "metadata": {},
          "output_type": "execute_result"
        }
      ],
      "source": [
        "#let's check whether database having any other null value\n",
        "\n",
        "hotel_booking_df.isnull().sum() # As we have seen, no column has any null value"
      ]
    },
    {
      "cell_type": "code",
      "execution_count": null,
      "metadata": {
        "colab": {
          "base_uri": "https://localhost:8080/"
        },
        "id": "a0exiWvaYx7q",
        "outputId": "8e93c5b1-4b3b-4695-eb80-911a5ebcdaca"
      },
      "outputs": [
        {
          "name": "stdout",
          "output_type": "stream",
          "text": [
            "<class 'pandas.core.frame.DataFrame'>\n",
            "Int64Index: 87389 entries, 0 to 119389\n",
            "Data columns (total 31 columns):\n",
            " #   Column                          Non-Null Count  Dtype  \n",
            "---  ------                          --------------  -----  \n",
            " 0   hotel                           87389 non-null  object \n",
            " 1   is_canceled                     87389 non-null  int64  \n",
            " 2   lead_time                       87389 non-null  int64  \n",
            " 3   arrival_date_year               87389 non-null  int64  \n",
            " 4   arrival_date_month              87389 non-null  object \n",
            " 5   arrival_date_week_number        87389 non-null  int64  \n",
            " 6   arrival_date_day_of_month       87389 non-null  int64  \n",
            " 7   stays_in_weekend_nights         87389 non-null  int64  \n",
            " 8   stays_in_week_nights            87389 non-null  int64  \n",
            " 9   adults                          87389 non-null  int64  \n",
            " 10  children                        87385 non-null  float64\n",
            " 11  babies                          87389 non-null  int64  \n",
            " 12  meal                            87389 non-null  object \n",
            " 13  country                         87389 non-null  object \n",
            " 14  market_segment                  87389 non-null  object \n",
            " 15  distribution_channel            87389 non-null  object \n",
            " 16  is_repeated_guest               87389 non-null  int64  \n",
            " 17  previous_cancellations          87389 non-null  int64  \n",
            " 18  previous_bookings_not_canceled  87389 non-null  int64  \n",
            " 19  reserved_room_type              87389 non-null  object \n",
            " 20  assigned_room_type              87389 non-null  object \n",
            " 21  booking_changes                 87389 non-null  int64  \n",
            " 22  deposit_type                    87389 non-null  object \n",
            " 23  agent                           87389 non-null  float64\n",
            " 24  days_in_waiting_list            87389 non-null  int64  \n",
            " 25  customer_type                   87389 non-null  object \n",
            " 26  adr                             87389 non-null  float64\n",
            " 27  required_car_parking_spaces     87389 non-null  int64  \n",
            " 28  total_of_special_requests       87389 non-null  int64  \n",
            " 29  reservation_status              87389 non-null  object \n",
            " 30  reservation_status_date         87389 non-null  object \n",
            "dtypes: float64(3), int64(16), object(12)\n",
            "memory usage: 21.3+ MB\n"
          ]
        }
      ],
      "source": [
        "#Change in datatype for required columns\n",
        "\n",
        "#showing the info of the data to check datatype\n",
        "hotel_booking_df.info()"
      ]
    },
    {
      "cell_type": "code",
      "execution_count": null,
      "metadata": {
        "colab": {
          "base_uri": "https://localhost:8080/"
        },
        "id": "tiKSIE5CY6ra",
        "outputId": "4dbdb60f-9056-47ff-9b12-366ae88ce1ad"
      },
      "outputs": [
        {
          "output_type": "execute_result",
          "data": {
            "text/plain": [
              "0         0\n",
              "1         0\n",
              "2         1\n",
              "3         1\n",
              "4         2\n",
              "         ..\n",
              "119385    7\n",
              "119386    7\n",
              "119387    7\n",
              "119388    7\n",
              "119389    9\n",
              "Name: total_stay_in_nights, Length: 119390, dtype: int64"
            ]
          },
          "metadata": {},
          "execution_count": 44
        }
      ],
      "source": [
        "#total stay in nights\n",
        "hotel_booking_df['total_stay_in_nights'] = hotel_booking_df ['stays_in_week_nights'] + hotel_booking_df ['stays_in_weekend_nights']\n",
        "hotel_booking_df['total_stay_in_nights'] # We have created a col for total stays in nights by adding week night & weekend nights stay col."
      ]
    },
    {
      "cell_type": "code",
      "execution_count": null,
      "metadata": {
        "colab": {
          "base_uri": "https://localhost:8080/"
        },
        "id": "iLjVk7-OZLV0",
        "outputId": "e145ba66-b850-4751-8f65-b68a3d513a67"
      },
      "outputs": [
        {
          "output_type": "execute_result",
          "data": {
            "text/plain": [
              "0            0.00\n",
              "1            0.00\n",
              "2           75.00\n",
              "3           75.00\n",
              "4          196.00\n",
              "           ...   \n",
              "119385     672.98\n",
              "119386    1578.01\n",
              "119387    1103.97\n",
              "119388     730.80\n",
              "119389    1360.80\n",
              "Name: revenue, Length: 119390, dtype: float64"
            ]
          },
          "metadata": {},
          "execution_count": 45
        }
      ],
      "source": [
        "# We have created a col for revenue using total stay * adr\n",
        "hotel_booking_df['revenue'] = hotel_booking_df['total_stay_in_nights'] *hotel_booking_df['adr']\n",
        "hotel_booking_df['revenue']"
      ]
    },
    {
      "cell_type": "code",
      "execution_count": null,
      "metadata": {
        "colab": {
          "base_uri": "https://localhost:8080/"
        },
        "id": "Rb-o7j3XZbV1",
        "outputId": "033dd9dc-cfd1-4a4d-9881-a044065320bf"
      },
      "outputs": [
        {
          "output_type": "execute_result",
          "data": {
            "text/plain": [
              "234979.0"
            ]
          },
          "metadata": {},
          "execution_count": 16
        }
      ],
      "source": [
        "# Also, for information, we will add a column with total guest coming for each booking\n",
        "hotel_booking_df['total_guest'] = hotel_booking_df['adults'] + hotel_booking_df['children'] + hotel_booking_df['babies']\n",
        "hotel_booking_df['total_guest'].sum()"
      ]
    },
    {
      "cell_type": "code",
      "execution_count": null,
      "metadata": {
        "colab": {
          "base_uri": "https://localhost:8080/"
        },
        "id": "Jouzjq3bZd_K",
        "outputId": "1fe3e450-6e4a-4540-c4a4-e30d281528d9"
      },
      "outputs": [
        {
          "output_type": "execute_result",
          "data": {
            "text/plain": [
              "0         not canceled\n",
              "1         not canceled\n",
              "2         not canceled\n",
              "3         not canceled\n",
              "4         not canceled\n",
              "              ...     \n",
              "119385    not canceled\n",
              "119386    not canceled\n",
              "119387    not canceled\n",
              "119388    not canceled\n",
              "119389    not canceled\n",
              "Name: is_canceled, Length: 119390, dtype: object"
            ]
          },
          "metadata": {},
          "execution_count": 17
        }
      ],
      "source": [
        "# for understanding, from col 'is_canceled': we will replace the value from (0,1) to not_canceled, is canceled.\n",
        "\n",
        "hotel_booking_df['is_canceled'] = hotel_booking_df['is_canceled'].replace([0,1], ['not canceled', 'is canceled'])\n",
        "hotel_booking_df['is_canceled']"
      ]
    },
    {
      "cell_type": "code",
      "execution_count": null,
      "metadata": {
        "colab": {
          "base_uri": "https://localhost:8080/"
        },
        "id": "MdNwyoRYZgWB",
        "outputId": "55ebc419-4bd1-4da5-e2dd-41c1082d91a0"
      },
      "outputs": [
        {
          "data": {
            "text/plain": [
              "0         not repeated\n",
              "1         not repeated\n",
              "2         not repeated\n",
              "3         not repeated\n",
              "4         not repeated\n",
              "              ...     \n",
              "119385    not repeated\n",
              "119386    not repeated\n",
              "119387    not repeated\n",
              "119388    not repeated\n",
              "119389    not repeated\n",
              "Name: is_repeated_guest, Length: 87389, dtype: object"
            ]
          },
          "execution_count": 47,
          "metadata": {},
          "output_type": "execute_result"
        }
      ],
      "source": [
        "#Same for 'is_repeated_guest' col\n",
        "hotel_booking_df['is_repeated_guest'] = hotel_booking_df['is_repeated_guest'].replace([0,1], ['not repeated', 'repeated'])\n",
        "hotel_booking_df['is_repeated_guest']"
      ]
    },
    {
      "cell_type": "code",
      "execution_count": null,
      "metadata": {
        "colab": {
          "base_uri": "https://localhost:8080/"
        },
        "id": "1gvq8D7vZjGT",
        "outputId": "b40875d1-7b4b-4473-e4cf-4da78b6d5a1d"
      },
      "outputs": [
        {
          "output_type": "execute_result",
          "data": {
            "text/plain": [
              "hotel\n",
              "City Hotel      25279469.96\n",
              "Resort Hotel    17444027.57\n",
              "Name: revenue, dtype: float64"
            ]
          },
          "metadata": {},
          "execution_count": 46
        }
      ],
      "source": [
        "#Now, we will check overall revenue hotel wise\n",
        "hotel_wise_total_revenue = hotel_booking_df.groupby('hotel')['revenue'].sum()\n",
        "hotel_wise_total_revenue"
      ]
    },
    {
      "cell_type": "code",
      "execution_count": null,
      "metadata": {
        "colab": {
          "base_uri": "https://localhost:8080/",
          "height": 424
        },
        "id": "FmqyHZ1WZlpT",
        "outputId": "562532c2-8cfb-44ea-99c9-78128232e2d2"
      },
      "outputs": [
        {
          "output_type": "execute_result",
          "data": {
            "text/plain": [
              "               hotel  revenue\n",
              "0       Resort Hotel     0.00\n",
              "1       Resort Hotel     0.00\n",
              "2       Resort Hotel    75.00\n",
              "3       Resort Hotel    75.00\n",
              "4       Resort Hotel   196.00\n",
              "...              ...      ...\n",
              "119385    City Hotel   672.98\n",
              "119386    City Hotel  1578.01\n",
              "119387    City Hotel  1103.97\n",
              "119388    City Hotel   730.80\n",
              "119389    City Hotel  1360.80\n",
              "\n",
              "[119390 rows x 2 columns]"
            ],
            "text/html": [
              "\n",
              "\n",
              "  <div id=\"df-08eeb98b-c786-4873-b82b-1ad9c2be5dbd\">\n",
              "    <div class=\"colab-df-container\">\n",
              "      <div>\n",
              "<style scoped>\n",
              "    .dataframe tbody tr th:only-of-type {\n",
              "        vertical-align: middle;\n",
              "    }\n",
              "\n",
              "    .dataframe tbody tr th {\n",
              "        vertical-align: top;\n",
              "    }\n",
              "\n",
              "    .dataframe thead th {\n",
              "        text-align: right;\n",
              "    }\n",
              "</style>\n",
              "<table border=\"1\" class=\"dataframe\">\n",
              "  <thead>\n",
              "    <tr style=\"text-align: right;\">\n",
              "      <th></th>\n",
              "      <th>hotel</th>\n",
              "      <th>revenue</th>\n",
              "    </tr>\n",
              "  </thead>\n",
              "  <tbody>\n",
              "    <tr>\n",
              "      <th>0</th>\n",
              "      <td>Resort Hotel</td>\n",
              "      <td>0.00</td>\n",
              "    </tr>\n",
              "    <tr>\n",
              "      <th>1</th>\n",
              "      <td>Resort Hotel</td>\n",
              "      <td>0.00</td>\n",
              "    </tr>\n",
              "    <tr>\n",
              "      <th>2</th>\n",
              "      <td>Resort Hotel</td>\n",
              "      <td>75.00</td>\n",
              "    </tr>\n",
              "    <tr>\n",
              "      <th>3</th>\n",
              "      <td>Resort Hotel</td>\n",
              "      <td>75.00</td>\n",
              "    </tr>\n",
              "    <tr>\n",
              "      <th>4</th>\n",
              "      <td>Resort Hotel</td>\n",
              "      <td>196.00</td>\n",
              "    </tr>\n",
              "    <tr>\n",
              "      <th>...</th>\n",
              "      <td>...</td>\n",
              "      <td>...</td>\n",
              "    </tr>\n",
              "    <tr>\n",
              "      <th>119385</th>\n",
              "      <td>City Hotel</td>\n",
              "      <td>672.98</td>\n",
              "    </tr>\n",
              "    <tr>\n",
              "      <th>119386</th>\n",
              "      <td>City Hotel</td>\n",
              "      <td>1578.01</td>\n",
              "    </tr>\n",
              "    <tr>\n",
              "      <th>119387</th>\n",
              "      <td>City Hotel</td>\n",
              "      <td>1103.97</td>\n",
              "    </tr>\n",
              "    <tr>\n",
              "      <th>119388</th>\n",
              "      <td>City Hotel</td>\n",
              "      <td>730.80</td>\n",
              "    </tr>\n",
              "    <tr>\n",
              "      <th>119389</th>\n",
              "      <td>City Hotel</td>\n",
              "      <td>1360.80</td>\n",
              "    </tr>\n",
              "  </tbody>\n",
              "</table>\n",
              "<p>119390 rows × 2 columns</p>\n",
              "</div>\n",
              "      <button class=\"colab-df-convert\" onclick=\"convertToInteractive('df-08eeb98b-c786-4873-b82b-1ad9c2be5dbd')\"\n",
              "              title=\"Convert this dataframe to an interactive table.\"\n",
              "              style=\"display:none;\">\n",
              "\n",
              "  <svg xmlns=\"http://www.w3.org/2000/svg\" height=\"24px\"viewBox=\"0 0 24 24\"\n",
              "       width=\"24px\">\n",
              "    <path d=\"M0 0h24v24H0V0z\" fill=\"none\"/>\n",
              "    <path d=\"M18.56 5.44l.94 2.06.94-2.06 2.06-.94-2.06-.94-.94-2.06-.94 2.06-2.06.94zm-11 1L8.5 8.5l.94-2.06 2.06-.94-2.06-.94L8.5 2.5l-.94 2.06-2.06.94zm10 10l.94 2.06.94-2.06 2.06-.94-2.06-.94-.94-2.06-.94 2.06-2.06.94z\"/><path d=\"M17.41 7.96l-1.37-1.37c-.4-.4-.92-.59-1.43-.59-.52 0-1.04.2-1.43.59L10.3 9.45l-7.72 7.72c-.78.78-.78 2.05 0 2.83L4 21.41c.39.39.9.59 1.41.59.51 0 1.02-.2 1.41-.59l7.78-7.78 2.81-2.81c.8-.78.8-2.07 0-2.86zM5.41 20L4 18.59l7.72-7.72 1.47 1.35L5.41 20z\"/>\n",
              "  </svg>\n",
              "      </button>\n",
              "\n",
              "\n",
              "\n",
              "    <div id=\"df-fed3d0cb-5b5c-4ba8-850a-0a719c851008\">\n",
              "      <button class=\"colab-df-quickchart\" onclick=\"quickchart('df-fed3d0cb-5b5c-4ba8-850a-0a719c851008')\"\n",
              "              title=\"Suggest charts.\"\n",
              "              style=\"display:none;\">\n",
              "\n",
              "<svg xmlns=\"http://www.w3.org/2000/svg\" height=\"24px\"viewBox=\"0 0 24 24\"\n",
              "     width=\"24px\">\n",
              "    <g>\n",
              "        <path d=\"M19 3H5c-1.1 0-2 .9-2 2v14c0 1.1.9 2 2 2h14c1.1 0 2-.9 2-2V5c0-1.1-.9-2-2-2zM9 17H7v-7h2v7zm4 0h-2V7h2v10zm4 0h-2v-4h2v4z\"/>\n",
              "    </g>\n",
              "</svg>\n",
              "      </button>\n",
              "    </div>\n",
              "\n",
              "<style>\n",
              "  .colab-df-quickchart {\n",
              "    background-color: #E8F0FE;\n",
              "    border: none;\n",
              "    border-radius: 50%;\n",
              "    cursor: pointer;\n",
              "    display: none;\n",
              "    fill: #1967D2;\n",
              "    height: 32px;\n",
              "    padding: 0 0 0 0;\n",
              "    width: 32px;\n",
              "  }\n",
              "\n",
              "  .colab-df-quickchart:hover {\n",
              "    background-color: #E2EBFA;\n",
              "    box-shadow: 0px 1px 2px rgba(60, 64, 67, 0.3), 0px 1px 3px 1px rgba(60, 64, 67, 0.15);\n",
              "    fill: #174EA6;\n",
              "  }\n",
              "\n",
              "  [theme=dark] .colab-df-quickchart {\n",
              "    background-color: #3B4455;\n",
              "    fill: #D2E3FC;\n",
              "  }\n",
              "\n",
              "  [theme=dark] .colab-df-quickchart:hover {\n",
              "    background-color: #434B5C;\n",
              "    box-shadow: 0px 1px 3px 1px rgba(0, 0, 0, 0.15);\n",
              "    filter: drop-shadow(0px 1px 2px rgba(0, 0, 0, 0.3));\n",
              "    fill: #FFFFFF;\n",
              "  }\n",
              "</style>\n",
              "\n",
              "    <script>\n",
              "      async function quickchart(key) {\n",
              "        const containerElement = document.querySelector('#' + key);\n",
              "        const charts = await google.colab.kernel.invokeFunction(\n",
              "            'suggestCharts', [key], {});\n",
              "      }\n",
              "    </script>\n",
              "\n",
              "      <script>\n",
              "\n",
              "function displayQuickchartButton(domScope) {\n",
              "  let quickchartButtonEl =\n",
              "    domScope.querySelector('#df-fed3d0cb-5b5c-4ba8-850a-0a719c851008 button.colab-df-quickchart');\n",
              "  quickchartButtonEl.style.display =\n",
              "    google.colab.kernel.accessAllowed ? 'block' : 'none';\n",
              "}\n",
              "\n",
              "        displayQuickchartButton(document);\n",
              "      </script>\n",
              "      <style>\n",
              "    .colab-df-container {\n",
              "      display:flex;\n",
              "      flex-wrap:wrap;\n",
              "      gap: 12px;\n",
              "    }\n",
              "\n",
              "    .colab-df-convert {\n",
              "      background-color: #E8F0FE;\n",
              "      border: none;\n",
              "      border-radius: 50%;\n",
              "      cursor: pointer;\n",
              "      display: none;\n",
              "      fill: #1967D2;\n",
              "      height: 32px;\n",
              "      padding: 0 0 0 0;\n",
              "      width: 32px;\n",
              "    }\n",
              "\n",
              "    .colab-df-convert:hover {\n",
              "      background-color: #E2EBFA;\n",
              "      box-shadow: 0px 1px 2px rgba(60, 64, 67, 0.3), 0px 1px 3px 1px rgba(60, 64, 67, 0.15);\n",
              "      fill: #174EA6;\n",
              "    }\n",
              "\n",
              "    [theme=dark] .colab-df-convert {\n",
              "      background-color: #3B4455;\n",
              "      fill: #D2E3FC;\n",
              "    }\n",
              "\n",
              "    [theme=dark] .colab-df-convert:hover {\n",
              "      background-color: #434B5C;\n",
              "      box-shadow: 0px 1px 3px 1px rgba(0, 0, 0, 0.15);\n",
              "      filter: drop-shadow(0px 1px 2px rgba(0, 0, 0, 0.3));\n",
              "      fill: #FFFFFF;\n",
              "    }\n",
              "  </style>\n",
              "\n",
              "      <script>\n",
              "        const buttonEl =\n",
              "          document.querySelector('#df-08eeb98b-c786-4873-b82b-1ad9c2be5dbd button.colab-df-convert');\n",
              "        buttonEl.style.display =\n",
              "          google.colab.kernel.accessAllowed ? 'block' : 'none';\n",
              "\n",
              "        async function convertToInteractive(key) {\n",
              "          const element = document.querySelector('#df-08eeb98b-c786-4873-b82b-1ad9c2be5dbd');\n",
              "          const dataTable =\n",
              "            await google.colab.kernel.invokeFunction('convertToInteractive',\n",
              "                                                     [key], {});\n",
              "          if (!dataTable) return;\n",
              "\n",
              "          const docLinkHtml = 'Like what you see? Visit the ' +\n",
              "            '<a target=\"_blank\" href=https://colab.research.google.com/notebooks/data_table.ipynb>data table notebook</a>'\n",
              "            + ' to learn more about interactive tables.';\n",
              "          element.innerHTML = '';\n",
              "          dataTable['output_type'] = 'display_data';\n",
              "          await google.colab.output.renderOutput(dataTable, element);\n",
              "          const docLink = document.createElement('div');\n",
              "          docLink.innerHTML = docLinkHtml;\n",
              "          element.appendChild(docLink);\n",
              "        }\n",
              "      </script>\n",
              "    </div>\n",
              "  </div>\n"
            ]
          },
          "metadata": {},
          "execution_count": 47
        }
      ],
      "source": [
        "hotel_booking_df[['hotel', \"revenue\"]]"
      ]
    },
    {
      "cell_type": "markdown",
      "metadata": {
        "id": "xar0UBMZjrnj"
      },
      "source": [
        "We only made a few changes to the data.\n",
        "\n",
        "**----Columns added -----**\n",
        "\n",
        "We have seen that a few columns are needed in the data for analytical purposes, and these columns can be evaluated.\n",
        "\n",
        "a) **Number of Guests:** We may assess the overall number of guests and income by using these columns. This value is obtained by summing the total number of adults, children, and infants.\n",
        "\n",
        "b) **Income:** ADR and total guests are multiplied to find revenue. This column will be used to examine each hotel's growth and profitability.\n",
        "\n",
        "\n",
        "\n",
        "**----Columns deleted -----**\n",
        "\n",
        "\n",
        "a)**company:** As we can see, this column almost has no data. As a result, we had to eliminate this column because it had no bearing on the analysis.\n",
        "\n",
        "\n",
        "\n",
        "**Replace values in columns by**\n",
        "\n",
        "is cancelled, isn't cancelled, and is a repeat visitor: As we've seen, these columns only hold the value of 0,1 to indicate that the boycott is now being cancelled. These values (0,1) from \"Cancelled\" & \"Not cancelled\" are changed. The same procedure is used to change 0,1 from \"Repeated\" and \"Not repeated\" in the column \"is_repeated_guest\". These values will now facilitate greater comprehension during visualisation.\n",
        "\n",
        "\n",
        "\n",
        "**----Changes to the values' data types in columns --**\n",
        "\n",
        "\n",
        "a) **Agent & Kids:** We verified that these columns contain float values, which don't make sense in the data because they represent the guest count and agent ID. Therefore, we have updated the 'float' data type of these columns to 'Integer'.\n",
        "\n",
        "\n",
        "**----Removed duplicate entries and is_null values --**\n",
        "\n",
        "a) Data wrangling must be done before any data from the data set can be visualised.\n",
        "\n",
        "\n",
        "Data wrangling must be done before any data from the data set can be visualised.\n",
        "We have examined each column's null value in order to determine that. After checking, drop the column using the 'drop' method if we find one that has a greater percentage of null values. We are so removed from the \"company\" column. When there are only a few null values, we fill those null values with the necessary values using the.fillna() function.\n",
        "\n",
        "b) In the same, we looked to see whether there was any data duplication and discovered that a few rows had duplicate data. As a result, we used the.drop_duplicates() method to delete those rows from the data set.\n",
        "\n",
        "\n",
        "\n",
        "\n",
        "\n",
        "\n",
        "By doing this, we have eliminated any unnecessary data."
      ]
    },
    {
      "cell_type": "markdown",
      "metadata": {
        "id": "7nGPG6B3knlr"
      },
      "source": [
        "\n",
        "## ***4. Data Visualisation, Storytelling, and Chart Experimental Design: Identify the relationships between variables***"
      ]
    },
    {
      "cell_type": "markdown",
      "metadata": {
        "id": "TRDwhs4Xk4lq"
      },
      "source": [
        "# Chart-1"
      ]
    },
    {
      "cell_type": "code",
      "execution_count": null,
      "metadata": {
        "id": "WL-Atw_XZoOk"
      },
      "outputs": [],
      "source": [
        "# Let's create a function which will give us bar chart of data respective with a col.\n",
        "def get_count_from_column_bar(df, column_label):\n",
        "  df_grpd = df[column_label].value_counts()\n",
        "  df_grpd = pd.DataFrame({'index':df_grpd.index, 'count':df_grpd.values})\n",
        "  return df_grpd\n",
        "\n",
        "\n",
        "def plot_bar_chart_from_column(df, column_label, t1):\n",
        "  df_grpd = get_count_from_column(df, column_label)\n",
        "  fig, ax = plt.subplots(figsize=(14, 6))\n",
        "  c= ['g','r','b','c','y']\n",
        "  ax.bar(df_grpd['index'], df_grpd['count'], width = 0.4, align = 'edge', edgecolor = 'black', linewidth = 4, color = c, linestyle = ':', alpha = 0.5)\n",
        "  plt.title(t1, bbox={'facecolor':'0.8', 'pad':3})\n",
        "  plt.legend()\n",
        "  plt.ylabel('Count')\n",
        "  plt.xticks(rotation = 15) # use to format the lable of x-axis\n",
        "  #plt.xlabel(column_label)f\n",
        "  plt.show()"
      ]
    },
    {
      "cell_type": "code",
      "execution_count": null,
      "metadata": {
        "id": "BfJcbTQZlI_m"
      },
      "outputs": [],
      "source": [
        "# Chart - 1 visualization code\n",
        "\n",
        "def get_count_from_column(df, column_label):\n",
        "  df_grpd = df[column_label].value_counts()\n",
        "  df_grpd = pd.DataFrame({'index':df_grpd.index, 'count':df_grpd.values})\n",
        "  return df_grpd\n",
        "\n",
        "# plot a pie chart from grouped data\n",
        "def plot_pie_chart_from_column(df, column_label, t1, exp):\n",
        "  df_grpd = get_count_from_column(df, column_label)\n",
        "  fig, ax = plt.subplots(figsize=(14,9))\n",
        "  ax.pie(df_grpd.loc[:, 'count'], labels=df_grpd.loc[:, 'index'], autopct='%1.2f%%',startangle=90, labeldistance = 1.2, explode = exp)\n",
        "  plt.title(t1, bbox={'facecolor':'0.8', 'pad':3})\n",
        "  ax.axis('equal')\n",
        "  plt.legend()\n",
        "  plt.show()"
      ]
    },
    {
      "cell_type": "code",
      "execution_count": null,
      "metadata": {
        "colab": {
          "base_uri": "https://localhost:8080/",
          "height": 752
        },
        "id": "VlKHP1mfllg3",
        "outputId": "51a05a2f-9aae-40e2-baf4-a812bfccf95a"
      },
      "outputs": [
        {
          "data": {
            "image/png": "[encoded data removed]",
            "text/plain": [
              "<Figure size 1400x900 with 1 Axes>"
            ]
          },
          "metadata": {},
          "output_type": "display_data"
        }
      ],
      "source": [
        "exp1 = [0.05,0.05]\n",
        "plot_pie_chart_from_column(hotel_booking_df, 'hotel', 'Booking percentage of Hotel by Name', exp1)\n"
      ]
    },
    {
      "cell_type": "markdown",
      "metadata": {
        "id": "Am1FxVFllOdO"
      },
      "source": [
        "##### 1. Why did you pick the specific chart?\n",
        "\n",
        "***To present the data that in which hotel more booking have been done.***\n",
        "\n",
        "##### 2. What is/are the insight(s) found from the chart?\n",
        "\n",
        "***Here, we found that the booking number is Higher in City Hotel which is 61.12% than Resort Hotel which is 38.87%. Hence we can say that City hotel has more consumption***\n",
        "\n",
        "##### 3. Will the gained insights help creating a positive business impact?\n",
        "Are there any insights that lead to negative growth? Justify with specific reason.\n",
        "\n",
        "**Yes, for both Hotels, this data making some positive business impact : -**\n",
        "\n",
        "**City Hotel :- Provided more services to attract more guest to increase more revenue.**\n",
        "\n",
        "**Resort Hotel :- Find solution to attract guest and find what city hotel did to attract guest.**"
      ]
    },
    {
      "cell_type": "markdown",
      "metadata": {
        "id": "WSfcb3yRlq8b"
      },
      "source": [
        "#### Chart - **2**"
      ]
    },
    {
      "cell_type": "code",
      "execution_count": null,
      "metadata": {
        "colab": {
          "base_uri": "https://localhost:8080/",
          "height": 752
        },
        "id": "b8pJzpEr_J6D",
        "outputId": "690b2b4c-bb20-4a0d-872a-0b9e29770cc7"
      },
      "outputs": [
        {
          "data": {
            "image/png": "[encoded data removed]",
            "text/plain": [
              "<Figure size 1400x900 with 1 Axes>"
            ]
          },
          "metadata": {},
          "output_type": "display_data"
        }
      ],
      "source": [
        "# Chart - 2 visualization code\n",
        "exp4 = [0,0.1]\n",
        "plot_pie_chart_from_column(hotel_booking_df, 'is_canceled', 'Cancellation volume of Hotel', exp4)"
      ]
    },
    {
      "cell_type": "markdown",
      "metadata": {
        "id": "t9GNhqZ9bwUd"
      },
      "source": [
        "##### 1. Why did you pick the specific chart?\n",
        "\n",
        "**In this chart, we presented the cancellation rate of the hotels booking**\n",
        "\n",
        "##### 2. What is/are the insight(s) found from the chart?\n",
        "**Here, we found that overall more than 25% of booking got cancelled**\n",
        "\n",
        "##### 3. Will the gained insights help creating a positive business impact?\n",
        "Are there any insights that lead to negative growth? Justify with specific reason.\n",
        "\n",
        "**Here, we can see, that more than 27% booking getting cancelled.**\n",
        "\n",
        "\n",
        "**Solution: We can check the reason of cancellation of a booking & need to get this sort on business level**"
      ]
    },
    {
      "cell_type": "markdown",
      "metadata": {
        "id": "EA6dFJ5sdcda"
      },
      "source": [
        "# Chart 3"
      ]
    },
    {
      "cell_type": "code",
      "execution_count": null,
      "metadata": {
        "colab": {
          "base_uri": "https://localhost:8080/",
          "height": 601
        },
        "id": "P3lEatPldap1",
        "outputId": "e0d1a019-47eb-416b-9ba1-1e6769949507"
      },
      "outputs": [
        {
          "name": "stderr",
          "output_type": "stream",
          "text": [
            "WARNING:matplotlib.legend:No artists with labels found to put in legend.  Note that artists whose label start with an underscore are ignored when legend() is called with no argument.\n"
          ]
        },
        {
          "data": {
            "image/png": "[encoded data removed]",
            "text/plain": [
              "<Figure size 1400x600 with 1 Axes>"
            ]
          },
          "metadata": {},
          "output_type": "display_data"
        }
      ],
      "source": [
        "# Chart - 3 visualization code\n",
        "plot_bar_chart_from_column(hotel_booking_df, 'distribution_channel', 'Distibution Channel Volume')"
      ]
    },
    {
      "cell_type": "markdown",
      "metadata": {
        "id": "XUiSzBum14Zo"
      },
      "source": [
        "##### 1. Why did you pick the specific chart?\n",
        "\n",
        "**The following chart represent maximum volume of booking done through which channel to represnt the numbers in descending order we chose bar graph**\n",
        "\n",
        "##### 2. What is/are the insight(s) found from the chart?\n",
        "\n",
        "**As clearly seen TA/TO(Tour of Agent & Tour of operator) is highest, recommending to continue booking through TA/TO**\n",
        "\n",
        "##### 3. Will the gained insights help creating a positive business impact?\n",
        "Are there any insights that lead to negative growth? Justify with specific reason.\n",
        "\n",
        "\n",
        "**Yes this shows positive business impact.**\n",
        "\n",
        "**Higher the  number of TA/TO  will help to increase the revenue generation of Hotel.**"
      ]
    },
    {
      "cell_type": "markdown",
      "metadata": {
        "id": "GAIDRyeg2FOd"
      },
      "source": [
        "# Chart -4"
      ]
    },
    {
      "cell_type": "code",
      "execution_count": null,
      "metadata": {
        "colab": {
          "base_uri": "https://localhost:8080/",
          "height": 781
        },
        "id": "D0YHKgv5eHSP",
        "outputId": "7d1f86fc-e372-4246-a6e7-5846c3ef42e7"
      },
      "outputs": [
        {
          "data": {
            "image/png": "[encoded data removed]",
            "text/plain": [
              "<Figure size 1400x900 with 1 Axes>"
            ]
          },
          "metadata": {},
          "output_type": "display_data"
        }
      ],
      "source": [
        "# Chart - 4 visualization code\n",
        "exp2 = [0.2, 0,0,0,0,0,0,0,0,0,0,0]\n",
        "plot_pie_chart_from_column(hotel_booking_df, 'arrival_date_month', 'Month-wise booking', exp2)"
      ]
    },
    {
      "cell_type": "markdown",
      "metadata": {
        "id": "6a47_auR2RdB"
      },
      "source": [
        "##### 1. Why did you pick the specific chart?\n",
        "\n",
        "**To show the percentage share of booking in each month,on overall level**\n",
        "\n",
        "##### 2. What is/are the insight(s) found from the chart?\n",
        "\n",
        "**The above percentage shows month May, July and Aug are the highest booking months due to holiday season. Recommending aggressive advertisement to lure more and more customers.**\n",
        "\n",
        "##### 3. Will the gained insights help creating a positive business impact?\n",
        "Are there any insights that lead to negative growth? Justify with specific reason.\n",
        "\n",
        "**Yes, with increased volume of visitors will help hotel to manage revenue in down time, will also help employee satisfaction and retention.**"
      ]
    },
    {
      "cell_type": "markdown",
      "metadata": {
        "id": "16KRnwM_2OBI"
      },
      "source": [
        "# Chart-5"
      ]
    },
    {
      "cell_type": "code",
      "execution_count": null,
      "metadata": {
        "colab": {
          "base_uri": "https://localhost:8080/",
          "height": 790
        },
        "id": "x760CD11eZbq",
        "outputId": "f9a3424a-26e6-46ce-bc6a-8682b7e81850"
      },
      "outputs": [
        {
          "data": {
            "image/png": "[encoded data removed]",
            "text/plain": [
              "<Figure size 1400x900 with 1 Axes>"
            ]
          },
          "metadata": {},
          "output_type": "display_data"
        }
      ],
      "source": [
        "# Chart - 5 visualization code\n",
        "exp3 = [0,0.2]\n",
        "plot_pie_chart_from_column(hotel_booking_df, 'is_repeated_guest', 'Guest repeating status', exp3)\n"
      ]
    },
    {
      "cell_type": "markdown",
      "metadata": {
        "id": "PROjSFBc2l5J"
      },
      "source": [
        "##### 1. Why did you pick the specific chart?\n",
        "\n",
        "**To show the percentage share of repeated & non-repeated guests.**\n",
        "\n",
        "##### 2. What is/are the insight(s) found from the chart?\n",
        "\n",
        "**Here, we can see that the number of repeated guests is very less as compared to overall guests**\n",
        "\n",
        "##### 3. Will the gained insights help creating a positive business impact?\n",
        "Are there any insights that lead to negative growth? Justify with specific reason.\n",
        "\n",
        "**We can give alluring offers to non-repetitive customers during Off seasons to enhance revenue**"
      ]
    },
    {
      "cell_type": "markdown",
      "metadata": {
        "id": "36VmD_xC2wve"
      },
      "source": [
        "# Chart-6"
      ]
    },
    {
      "cell_type": "code",
      "execution_count": null,
      "metadata": {
        "colab": {
          "base_uri": "https://localhost:8080/",
          "height": 605
        },
        "id": "wIlFHaN323Df",
        "outputId": "492ba796-d64d-4936-fed3-e4d1fd92c82b"
      },
      "outputs": [
        {
          "name": "stderr",
          "output_type": "stream",
          "text": [
            "WARNING:matplotlib.legend:No artists with labels found to put in legend.  Note that artists whose label start with an underscore are ignored when legend() is called with no argument.\n"
          ]
        },
        {
          "data": {
            "image/png": "[encoded data removed]",
            "text/plain": [
              "<Figure size 1400x600 with 1 Axes>"
            ]
          },
          "metadata": {},
          "output_type": "display_data"
        }
      ],
      "source": [
        "# Chart - 6 visualization code\n",
        "plot_bar_chart_from_column(hotel_booking_df, 'assigned_room_type', 'Assigment of room by type')"
      ]
    },
    {
      "cell_type": "markdown",
      "metadata": {
        "id": "UHNwJsn855B7"
      },
      "source": [
        "##### 1. Why did you pick the specific chart?\n",
        "\n",
        "\n",
        "**To show distribution by volume, which room is alotted.**\n",
        "\n",
        "##### 2. What is/are the insight(s) found from the chart?\n",
        "\n",
        "**This chart shows room type 'A' is most prefered by guest**.\n",
        "\n",
        "##### 3. Will the gained insights help creating a positive business impact?\n",
        "Are there any insights that lead to negative growth? Justify with specific reason.\n",
        "\n",
        "**Yes, Positive impact because 'A','D','E' is more prefered by guest due to better services offered in room type.**"
      ]
    },
    {
      "cell_type": "markdown",
      "metadata": {
        "id": "Yym5rAb989c9"
      },
      "source": [
        "# Chart-7"
      ]
    },
    {
      "cell_type": "code",
      "execution_count": null,
      "metadata": {
        "colab": {
          "base_uri": "https://localhost:8080/",
          "height": 769
        },
        "id": "HKUlwFpK7rDj",
        "outputId": "458ed362-4670-44d4-bebe-089fdeda5fa2"
      },
      "outputs": [
        {
          "data": {
            "text/plain": [
              "<Axes: xlabel='market_segment'>"
            ]
          },
          "execution_count": 17,
          "metadata": {},
          "output_type": "execute_result"
        },
        {
          "data": {
            "image/png": "[encoded data removed]",
            "text/plain": [
              "<Figure size 1500x600 with 1 Axes>"
            ]
          },
          "metadata": {},
          "output_type": "display_data"
        }
      ],
      "source": [
        "market_segment_df = pd.DataFrame(hotel_booking_df['market_segment'])\n",
        "market_segment_df_data = market_segment_df.groupby('market_segment')['market_segment'].count()\n",
        "market_segment_df_data.sort_values(ascending = False, inplace = True)\n",
        "plt.figure(figsize=(15,6))\n",
        "y = np.array([4,5,6])\n",
        "market_segment_df_data.plot(kind = 'bar', color=['r', 'g', 'y', 'b', 'pink', 'black', 'brown'], fontsize = 20,legend='True')\n"
      ]
    },
    {
      "cell_type": "markdown",
      "metadata": {
        "id": "5M66Y2JLAFdM"
      },
      "source": [
        "##### 1. Why did you pick the specific chart?\n",
        "\n",
        "**In this chart, we have seen market segment by which hotel has booked**\n",
        "\n",
        "##### 2. What is/are the insight(s) found from the chart?\n",
        "\n",
        "**Online TA has been used most frequently to book hotel by the guest.**\n",
        "##### 3. Will the gained insights help creating a positive business impact?\n",
        "Are there any insights that lead to negative growth? Justify with specific reason.\n",
        "\n",
        "**Yes, it is creating positive business impact that guests are using Online TA market segment as most prefered to book hotels.**"
      ]
    },
    {
      "cell_type": "markdown",
      "metadata": {
        "id": "D4F5ZzRqAeGE"
      },
      "source": [
        "# Chart-8"
      ]
    },
    {
      "cell_type": "code",
      "execution_count": null,
      "metadata": {
        "id": "96Hh89JlD-bR"
      },
      "outputs": [],
      "source": [
        "# Chart - 8 visualization code\n",
        "guest_country_wise = pd.DataFrame(hotel_booking_df[['country','total_guest']])\n",
        "guest_country_wise_df = guest_country_wise.groupby(['country'])['total_guest'].sum()\n",
        "guest_country_wise_df.sort_values(ascending = False, inplace = True)\n",
        "top_10_country_by_guest = guest_country_wise_df.head(10)"
      ]
    },
    {
      "cell_type": "code",
      "execution_count": null,
      "metadata": {
        "colab": {
          "base_uri": "https://localhost:8080/",
          "height": 778
        },
        "id": "3KOOBOIt7-pv",
        "outputId": "597681c3-f099-494f-b4f4-28844be1f13c"
      },
      "outputs": [
        {
          "output_type": "stream",
          "name": "stdout",
          "text": [
            "\n",
            "\n",
            "PRT = Portugal\n",
            "GBR = Great Britain & Northern Ireland\n",
            "FRA = France\n",
            "ESP = Spain\n",
            "DEU = Germany\n",
            "ITA = Italy\n",
            "IRL = Ireland\n",
            "BRA = Brazil\n",
            "BEL = Belgium\n",
            "NLD = Netherland\n"
          ]
        },
        {
          "output_type": "display_data",
          "data": {
            "text/plain": [
              "<Figure size 1200x600 with 1 Axes>"
            ],
            "image/png": "[encoded data removed]"
          },
          "metadata": {}
        }
      ],
      "source": [
        "plt.figure(figsize=(12,6))\n",
        "sns.barplot(x=top_10_country_by_guest.index, y=top_10_country_by_guest).set(title='Top 10 Countries by Guest')\n",
        "print(\"\\n\\nPRT = Portugal\\nGBR = Great Britain & Northern Ireland\\nFRA = France\\nESP = Spain\\nDEU = Germany\\nITA = Italy\\nIRL = Ireland\\nBRA = Brazil\\nBEL = Belgium\\nNLD = Netherland\")"
      ]
    },
    {
      "cell_type": "markdown",
      "source": [
        "**1 Why did you choose the particular chart?**\n",
        "We have observed that the majority of visitors come from which countries.\n",
        "\n",
        "A chart of the top 10 nations is displayed.\n",
        "\n",
        "**2. What insight(s) were discovered from the chart?**\n",
        "As we can see, the majority of the visitors are from Portugal.\n",
        "\n",
        "**3 Will the learned insights assist to a favorable commercial impact?**\n",
        "Exist any insights that result in a decline in growth? Provide a specific justification.\n",
        "\n",
        "To increase the number of customers, we can increase our marketing efforts and provide enticing deals to visitors from Portugal.\n"
      ],
      "metadata": {
        "id": "ekBQ4EIjTx5d"
      }
    },
    {
      "cell_type": "markdown",
      "source": [
        "# Chart-9"
      ],
      "metadata": {
        "id": "UNQqHaVVgXlZ"
      }
    },
    {
      "cell_type": "code",
      "execution_count": null,
      "metadata": {
        "id": "E-s4bl_uBk1F",
        "colab": {
          "base_uri": "https://localhost:8080/",
          "height": 509
        },
        "outputId": "18c8fb9b-5ac5-4f60-c9a2-6a27c361e551"
      },
      "outputs": [
        {
          "output_type": "execute_result",
          "data": {
            "text/plain": [
              "Text(0.5, 1.0, 'Average ADR of Hotel')"
            ]
          },
          "metadata": {},
          "execution_count": 39
        },
        {
          "output_type": "display_data",
          "data": {
            "text/plain": [
              "<Figure size 800x500 with 1 Axes>"
            ],
            "image/png": "[encoded data removed]"
          },
          "metadata": {}
        }
      ],
      "source": [
        "average_adr = hotel_booking_df.groupby('hotel')['adr'].mean()\n",
        "average_adr\n",
        "plt.subplots(figsize=(8, 5))\n",
        "average_adr.plot(kind = 'barh', color = ('g', 'r'))\n",
        "plt.xlabel(\"Average ADR\", fontdict={'fontsize': 12, 'fontweight' : 5, 'color' : 'Brown'})\n",
        "plt.ylabel(\"Hotel Name\", fontdict={'fontsize': 12, 'fontweight' : 5, 'color' : 'Brown'} )\n",
        "plt.title(\"Average ADR of Hotel\", fontdict={'fontsize': 12, 'fontweight' : 5, 'color' : 'Green'} )"
      ]
    },
    {
      "cell_type": "markdown",
      "source": [
        "# Chart-10"
      ],
      "metadata": {
        "id": "1cjJl1Dxgyde"
      }
    },
    {
      "cell_type": "code",
      "source": [
        "plt.figure(figsize = (8,5))\n",
        "hotel_wise_revenue = hotel_booking_df.groupby('hotel')['revenue'].sum()\n",
        "hotel_wise_revenue\n",
        "ax = hotel_wise_revenue.plot(kind = 'bar', color = ('black', 'green'))\n",
        "plt.xlabel(\"Hotel\", fontdict={'fontsize': 12, 'fontweight' : 5, 'color' : 'Brown'})\n",
        "plt.ylabel(\"Total Revenue\", fontdict={'fontsize': 12, 'fontweight' : 5, 'color' : 'Brown'} )\n",
        "plt.title(\"Total Revenue\", fontdict={'fontsize': 12, 'fontweight' : 5, 'color' : 'Green'} )"
      ],
      "metadata": {
        "colab": {
          "base_uri": "https://localhost:8080/",
          "height": 581
        },
        "id": "NLkOFd6ONY3J",
        "outputId": "fb14107c-0d05-4ea7-9e1f-6484c2820a27"
      },
      "execution_count": null,
      "outputs": [
        {
          "output_type": "execute_result",
          "data": {
            "text/plain": [
              "Text(0.5, 1.0, 'Total Revenue')"
            ]
          },
          "metadata": {},
          "execution_count": 49
        },
        {
          "output_type": "display_data",
          "data": {
            "text/plain": [
              "<Figure size 800x500 with 1 Axes>"
            ],
            "image/png": "[encoded data removed]"
          },
          "metadata": {}
        }
      ]
    },
    {
      "cell_type": "markdown",
      "source": [
        "**1.Why did you choose the particular chart?**\n",
        "\n",
        "*To provide the two hotels' average ADRs*\n",
        "\n",
        "**2.What insight(s) were discovered from the chart?**\n",
        "\n",
        "The average ADR of a city hotel is higher than a resort hotel, hence the city hotel will generate more profit and income.\n",
        "\n",
        "**3.Will the learned insights contribute to a favourable commercial impact?**\n",
        "Exist any insights that result in a decline in growth? Provide a specific justification.\n",
        "\n",
        "**Here, we can promote the City Hotel more to draw in more guests and increase revenue.**\n"
      ],
      "metadata": {
        "id": "bGsVekJch4Bs"
      }
    },
    {
      "cell_type": "markdown",
      "source": [
        "# Chart-11"
      ],
      "metadata": {
        "id": "qxkcAqB5hD9Z"
      }
    },
    {
      "cell_type": "code",
      "source": [
        "# Chart - 10 visualization code\n",
        "plt.figure(figsize = (12,6))\n",
        "sns.scatterplot(y = 'total_stay_in_nights', x = 'adr', data = hotel_booking_df[hotel_booking_df['adr'] < 1000])\n",
        "plt.show() #"
      ],
      "metadata": {
        "colab": {
          "base_uri": "https://localhost:8080/",
          "height": 542
        },
        "id": "C1YkXurCN5TH",
        "outputId": "a6b91bdf-d602-41e9-cb0f-dd0be0ff2951"
      },
      "execution_count": null,
      "outputs": [
        {
          "output_type": "display_data",
          "data": {
            "text/plain": [
              "<Figure size 1200x600 with 1 Axes>"
            ],
            "image/png": "[encoded data removed]"
          },
          "metadata": {}
        }
      ]
    },
    {
      "cell_type": "markdown",
      "source": [
        "**1.Why did you choose the particular chart?**\n",
        "\n",
        "To compare and illustrate how total stay days compare to ADR\n",
        "\n",
        "**2.What insight(s) were discovered from the chart?**\n",
        "\n",
        "Here, we discovered that if guest stay days are decreasing, ADR is increasing.\n"
      ],
      "metadata": {
        "id": "VZzJylb3lPzd"
      }
    },
    {
      "cell_type": "markdown",
      "source": [
        "# **Chart-12**"
      ],
      "metadata": {
        "id": "Mxu5hhESjfcm"
      }
    },
    {
      "cell_type": "code",
      "source": [
        "# Chart - 11 visualization code\n",
        "plt.figure(figsize = (12,10), dpi = 100)\n",
        "hotel_wise_meal = hotel_booking_df.groupby(['hotel', 'meal'])['meal'].count().unstack()\n",
        "hotel_wise_meal.plot(kind ='bar', figsize = (12,8))\n",
        "hotel_wise_meal"
      ],
      "metadata": {
        "colab": {
          "base_uri": "https://localhost:8080/",
          "height": 929
        },
        "id": "pco1r2yXN9sm",
        "outputId": "570c6174-5308-4b64-dffa-e9194ea08112"
      },
      "execution_count": null,
      "outputs": [
        {
          "output_type": "execute_result",
          "data": {
            "text/plain": [
              "meal               BB     FB      HB       SC  Undefined\n",
              "hotel                                                   \n",
              "City Hotel    62305.0   44.0  6417.0  10564.0        NaN\n",
              "Resort Hotel  30005.0  754.0  8046.0     86.0     1169.0"
            ],
            "text/html": [
              "\n",
              "\n",
              "  <div id=\"df-3670b4f0-f27b-4a86-b639-7ee62ec2e43d\">\n",
              "    <div class=\"colab-df-container\">\n",
              "      <div>\n",
              "<style scoped>\n",
              "    .dataframe tbody tr th:only-of-type {\n",
              "        vertical-align: middle;\n",
              "    }\n",
              "\n",
              "    .dataframe tbody tr th {\n",
              "        vertical-align: top;\n",
              "    }\n",
              "\n",
              "    .dataframe thead th {\n",
              "        text-align: right;\n",
              "    }\n",
              "</style>\n",
              "<table border=\"1\" class=\"dataframe\">\n",
              "  <thead>\n",
              "    <tr style=\"text-align: right;\">\n",
              "      <th>meal</th>\n",
              "      <th>BB</th>\n",
              "      <th>FB</th>\n",
              "      <th>HB</th>\n",
              "      <th>SC</th>\n",
              "      <th>Undefined</th>\n",
              "    </tr>\n",
              "    <tr>\n",
              "      <th>hotel</th>\n",
              "      <th></th>\n",
              "      <th></th>\n",
              "      <th></th>\n",
              "      <th></th>\n",
              "      <th></th>\n",
              "    </tr>\n",
              "  </thead>\n",
              "  <tbody>\n",
              "    <tr>\n",
              "      <th>City Hotel</th>\n",
              "      <td>62305.0</td>\n",
              "      <td>44.0</td>\n",
              "      <td>6417.0</td>\n",
              "      <td>10564.0</td>\n",
              "      <td>NaN</td>\n",
              "    </tr>\n",
              "    <tr>\n",
              "      <th>Resort Hotel</th>\n",
              "      <td>30005.0</td>\n",
              "      <td>754.0</td>\n",
              "      <td>8046.0</td>\n",
              "      <td>86.0</td>\n",
              "      <td>1169.0</td>\n",
              "    </tr>\n",
              "  </tbody>\n",
              "</table>\n",
              "</div>\n",
              "      <button class=\"colab-df-convert\" onclick=\"convertToInteractive('df-3670b4f0-f27b-4a86-b639-7ee62ec2e43d')\"\n",
              "              title=\"Convert this dataframe to an interactive table.\"\n",
              "              style=\"display:none;\">\n",
              "\n",
              "  <svg xmlns=\"http://www.w3.org/2000/svg\" height=\"24px\"viewBox=\"0 0 24 24\"\n",
              "       width=\"24px\">\n",
              "    <path d=\"M0 0h24v24H0V0z\" fill=\"none\"/>\n",
              "    <path d=\"M18.56 5.44l.94 2.06.94-2.06 2.06-.94-2.06-.94-.94-2.06-.94 2.06-2.06.94zm-11 1L8.5 8.5l.94-2.06 2.06-.94-2.06-.94L8.5 2.5l-.94 2.06-2.06.94zm10 10l.94 2.06.94-2.06 2.06-.94-2.06-.94-.94-2.06-.94 2.06-2.06.94z\"/><path d=\"M17.41 7.96l-1.37-1.37c-.4-.4-.92-.59-1.43-.59-.52 0-1.04.2-1.43.59L10.3 9.45l-7.72 7.72c-.78.78-.78 2.05 0 2.83L4 21.41c.39.39.9.59 1.41.59.51 0 1.02-.2 1.41-.59l7.78-7.78 2.81-2.81c.8-.78.8-2.07 0-2.86zM5.41 20L4 18.59l7.72-7.72 1.47 1.35L5.41 20z\"/>\n",
              "  </svg>\n",
              "      </button>\n",
              "\n",
              "\n",
              "\n",
              "    <div id=\"df-ccbce301-9ccb-4b6f-aa17-a1b905b16316\">\n",
              "      <button class=\"colab-df-quickchart\" onclick=\"quickchart('df-ccbce301-9ccb-4b6f-aa17-a1b905b16316')\"\n",
              "              title=\"Suggest charts.\"\n",
              "              style=\"display:none;\">\n",
              "\n",
              "<svg xmlns=\"http://www.w3.org/2000/svg\" height=\"24px\"viewBox=\"0 0 24 24\"\n",
              "     width=\"24px\">\n",
              "    <g>\n",
              "        <path d=\"M19 3H5c-1.1 0-2 .9-2 2v14c0 1.1.9 2 2 2h14c1.1 0 2-.9 2-2V5c0-1.1-.9-2-2-2zM9 17H7v-7h2v7zm4 0h-2V7h2v10zm4 0h-2v-4h2v4z\"/>\n",
              "    </g>\n",
              "</svg>\n",
              "      </button>\n",
              "    </div>\n",
              "\n",
              "<style>\n",
              "  .colab-df-quickchart {\n",
              "    background-color: #E8F0FE;\n",
              "    border: none;\n",
              "    border-radius: 50%;\n",
              "    cursor: pointer;\n",
              "    display: none;\n",
              "    fill: #1967D2;\n",
              "    height: 32px;\n",
              "    padding: 0 0 0 0;\n",
              "    width: 32px;\n",
              "  }\n",
              "\n",
              "  .colab-df-quickchart:hover {\n",
              "    background-color: #E2EBFA;\n",
              "    box-shadow: 0px 1px 2px rgba(60, 64, 67, 0.3), 0px 1px 3px 1px rgba(60, 64, 67, 0.15);\n",
              "    fill: #174EA6;\n",
              "  }\n",
              "\n",
              "  [theme=dark] .colab-df-quickchart {\n",
              "    background-color: #3B4455;\n",
              "    fill: #D2E3FC;\n",
              "  }\n",
              "\n",
              "  [theme=dark] .colab-df-quickchart:hover {\n",
              "    background-color: #434B5C;\n",
              "    box-shadow: 0px 1px 3px 1px rgba(0, 0, 0, 0.15);\n",
              "    filter: drop-shadow(0px 1px 2px rgba(0, 0, 0, 0.3));\n",
              "    fill: #FFFFFF;\n",
              "  }\n",
              "</style>\n",
              "\n",
              "    <script>\n",
              "      async function quickchart(key) {\n",
              "        const containerElement = document.querySelector('#' + key);\n",
              "        const charts = await google.colab.kernel.invokeFunction(\n",
              "            'suggestCharts', [key], {});\n",
              "      }\n",
              "    </script>\n",
              "\n",
              "      <script>\n",
              "\n",
              "function displayQuickchartButton(domScope) {\n",
              "  let quickchartButtonEl =\n",
              "    domScope.querySelector('#df-ccbce301-9ccb-4b6f-aa17-a1b905b16316 button.colab-df-quickchart');\n",
              "  quickchartButtonEl.style.display =\n",
              "    google.colab.kernel.accessAllowed ? 'block' : 'none';\n",
              "}\n",
              "\n",
              "        displayQuickchartButton(document);\n",
              "      </script>\n",
              "      <style>\n",
              "    .colab-df-container {\n",
              "      display:flex;\n",
              "      flex-wrap:wrap;\n",
              "      gap: 12px;\n",
              "    }\n",
              "\n",
              "    .colab-df-convert {\n",
              "      background-color: #E8F0FE;\n",
              "      border: none;\n",
              "      border-radius: 50%;\n",
              "      cursor: pointer;\n",
              "      display: none;\n",
              "      fill: #1967D2;\n",
              "      height: 32px;\n",
              "      padding: 0 0 0 0;\n",
              "      width: 32px;\n",
              "    }\n",
              "\n",
              "    .colab-df-convert:hover {\n",
              "      background-color: #E2EBFA;\n",
              "      box-shadow: 0px 1px 2px rgba(60, 64, 67, 0.3), 0px 1px 3px 1px rgba(60, 64, 67, 0.15);\n",
              "      fill: #174EA6;\n",
              "    }\n",
              "\n",
              "    [theme=dark] .colab-df-convert {\n",
              "      background-color: #3B4455;\n",
              "      fill: #D2E3FC;\n",
              "    }\n",
              "\n",
              "    [theme=dark] .colab-df-convert:hover {\n",
              "      background-color: #434B5C;\n",
              "      box-shadow: 0px 1px 3px 1px rgba(0, 0, 0, 0.15);\n",
              "      filter: drop-shadow(0px 1px 2px rgba(0, 0, 0, 0.3));\n",
              "      fill: #FFFFFF;\n",
              "    }\n",
              "  </style>\n",
              "\n",
              "      <script>\n",
              "        const buttonEl =\n",
              "          document.querySelector('#df-3670b4f0-f27b-4a86-b639-7ee62ec2e43d button.colab-df-convert');\n",
              "        buttonEl.style.display =\n",
              "          google.colab.kernel.accessAllowed ? 'block' : 'none';\n",
              "\n",
              "        async function convertToInteractive(key) {\n",
              "          const element = document.querySelector('#df-3670b4f0-f27b-4a86-b639-7ee62ec2e43d');\n",
              "          const dataTable =\n",
              "            await google.colab.kernel.invokeFunction('convertToInteractive',\n",
              "                                                     [key], {});\n",
              "          if (!dataTable) return;\n",
              "\n",
              "          const docLinkHtml = 'Like what you see? Visit the ' +\n",
              "            '<a target=\"_blank\" href=https://colab.research.google.com/notebooks/data_table.ipynb>data table notebook</a>'\n",
              "            + ' to learn more about interactive tables.';\n",
              "          element.innerHTML = '';\n",
              "          dataTable['output_type'] = 'display_data';\n",
              "          await google.colab.output.renderOutput(dataTable, element);\n",
              "          const docLink = document.createElement('div');\n",
              "          docLink.innerHTML = docLinkHtml;\n",
              "          element.appendChild(docLink);\n",
              "        }\n",
              "      </script>\n",
              "    </div>\n",
              "  </div>\n"
            ]
          },
          "metadata": {},
          "execution_count": 51
        },
        {
          "output_type": "display_data",
          "data": {
            "text/plain": [
              "<Figure size 1200x1000 with 0 Axes>"
            ]
          },
          "metadata": {}
        },
        {
          "output_type": "display_data",
          "data": {
            "text/plain": [
              "<Figure size 1200x800 with 1 Axes>"
            ],
            "image/png": "[encoded data removed]"
          },
          "metadata": {}
        },
        {
          "output_type": "stream",
          "name": "stdout",
          "text": [
            "Error: Runtime no longer has a reference to this dataframe, please re-run this cell and try again.\n"
          ]
        }
      ]
    },
    {
      "cell_type": "markdown",
      "source": [
        "**1.Why did you choose the particular chart?**\n",
        "\n",
        "To display the visitor's preferred dining experience hotel-wise\n",
        "\n",
        "**2.What insight(s) were discovered from the chart?**\n",
        "\n",
        "**As you can see, guests at both hotels prefer the BB (Bed & Breakfast) meal. In order to increase customer retention and draw in new customers, the hotel can serve more delicious meals during this dinner.**\n"
      ],
      "metadata": {
        "id": "diTGu2Bblg5r"
      }
    },
    {
      "cell_type": "markdown",
      "source": [
        "# Chart - 12 - Correlation Heatmap"
      ],
      "metadata": {
        "id": "wqpytUZpjkRS"
      }
    },
    {
      "cell_type": "code",
      "source": [
        "# Correlation Heatmap visualization code\n",
        "corr_df = hotel_booking_df[['lead_time','previous_cancellations', 'previous_bookings_not_canceled', 'total_guest',\n",
        "                    'booking_changes', 'days_in_waiting_list', 'adr', 'required_car_parking_spaces', 'total_of_special_requests']].corr()\n",
        "f, ax = plt.subplots(figsize=(12, 12))\n",
        "sns.heatmap(corr_df, annot = True, fmt='.2f', annot_kws={'size': 10},  vmax=1, square=True, cmap=\"YlGnBu\")"
      ],
      "metadata": {
        "colab": {
          "base_uri": "https://localhost:8080/",
          "height": 1000
        },
        "id": "nxSMCd-SOCi1",
        "outputId": "528daaee-a2a6-46b3-9145-17d296a98355"
      },
      "execution_count": null,
      "outputs": [
        {
          "output_type": "execute_result",
          "data": {
            "text/plain": [
              "<Axes: >"
            ]
          },
          "metadata": {},
          "execution_count": 52
        },
        {
          "output_type": "display_data",
          "data": {
            "text/plain": [
              "<Figure size 1200x1200 with 2 Axes>"
            ],
            "image/png": "[encoded data removed]"
          },
          "metadata": {}
        }
      ]
    },
    {
      "cell_type": "markdown",
      "source": [
        "**1.Why did you choose the particular chart?**\n",
        "\n",
        "To comprehend the relationships among various numerical quantities\n",
        "\n",
        "**2.What insight(s) were discovered from the chart?**\n",
        "\n",
        "The axis's highest corelation value is 39% positive and its lowest correlation value is -9% negative.\n"
      ],
      "metadata": {
        "id": "KkGz8oimmK2J"
      }
    },
    {
      "cell_type": "markdown",
      "source": [
        "## 5. The answer to the business objective\n"
      ],
      "metadata": {
        "id": "SFnDEh-CmwdY"
      }
    },
    {
      "cell_type": "markdown",
      "source": [
        "## **The following business aim was met :**\n",
        "\n",
        "1. In order for the hotel industry to prosper, a few factors must be taken into account, including high revenue generation, customer happiness, and employee retention.\n",
        "\n",
        "2. By using a pie chart distribution, we can demonstrate to the client which months generate the most money.\n",
        "\n",
        "3. Increasing revenue by using a bar chart to show which types of rooms are most frequently booked and when visitors are most likely to travel.\n",
        "\n",
        "4. As a result, the customer can be properly prepared in advance, minimising long-term complaints and contributing to further improvement of their hospitality.\n",
        "\n",
        "5. To encourage clients to contact offices for bulk reservations during the off-season, outliers such as larger visitor numbers than average were sprinkled across the plot. This helped generate more money.\n",
        "\n",
        "6. We can display the visitor arrivals trend at client venues, allowing clients to schedule visitors in advance for their entertainment and leisure activities.\n",
        "\n",
        "7. In order for the percentages underneath those numbers to be improved by a variety of mediums, we were also able to correlate the values indicating the maximum and minimum % between them.\n",
        "\n"
      ],
      "metadata": {
        "id": "zSluiA0FnII7"
      }
    },
    {
      "cell_type": "markdown",
      "source": [
        "# **Conclusion :-**"
      ],
      "metadata": {
        "id": "uNrYVd_NnhGe"
      }
    },
    {
      "cell_type": "markdown",
      "source": [
        "1. City Hotel generates greater income and profit and appears to be more popular among travellers.\n",
        "\n",
        "2. Compared to the other months, the majority of reservations are made in July and August.\n",
        "\n",
        "3. Travellers favour accommodation Type A over all other accommodation types.\n",
        "\n",
        "4. Portugal and the United Kingdom make the most reservations.\n",
        "\n",
        "5. The majority of visitors stay in hotels for 1-4 days.\n",
        "\n",
        "6. The City Hotel keeps a larger number of visitors.\n",
        "\n",
        "7. About one-fourth of all reservations are cancelled. City Hotel is the source of more cancellations.\n",
        "\n",
        "8. Compared to returning consumers, new guests frequently cancel reservations.\n",
        "\n",
        "9. Booking cancellations are unaffected by lead time, waiting list length, or client assignment of a reserved room.\n",
        "\n",
        "10. Corporate has the most percentage of repeated guests while TA/TO has the least whereas in the case of cancelled bookings TA/TO has the most percentage while Corporate has the least.\n",
        "\n",
        "11. The length of the stay decreases as ADR increases probably to reduce the cost."
      ],
      "metadata": {
        "id": "TfERAW-Snktc"
      }
    },
    {
      "cell_type": "markdown",
      "source": [
        "# ***Hurrah! You achieved your EDA Capstone Project successfully!***\n"
      ],
      "metadata": {
        "id": "OhCP7k-0oBzA"
      }
    }
  ],
  "metadata": {
    "colab": {
      "provenance": [],
      "include_colab_link": true
    },
    "kernelspec": {
      "display_name": "Python 3",
      "name": "python3"
    },
    "language_info": {
      "name": "python"
    }
  },
  "nbformat": 4,
  "nbformat_minor": 0
}